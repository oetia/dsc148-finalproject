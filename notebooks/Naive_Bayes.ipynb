{
 "cells": [
  {
   "cell_type": "code",
   "execution_count": 4,
   "metadata": {
    "colab": {},
    "colab_type": "code",
    "id": "j4zcwLIJuG1O"
   },
   "outputs": [],
   "source": [
    "import numpy as np\n",
    "import pandas as pd"
   ]
  },
  {
   "cell_type": "markdown",
   "metadata": {
    "colab_type": "text",
    "id": "KDABJK5kuG1R"
   },
   "source": [
    "# Naive Bayes Classifier \n",
    "It is a conditional probability model, with formula: <br>\n",
    "$ P(C| x_1, x_2, x_3, ...) = \\frac{P(C)P(X|C)}{P(X)}$ <br>\n",
    "It is naive because we have naive assumption such that every pair of features are independent from each other given C.<br>\n",
    "So we can rewrite the formula as: <br>\n",
    "$ P(C| x_1, x_2, x_3, ...) = P(C)P(x_1|C)P(x_2|C)... = P(C)\\prod^{n}_{i=1} P(x_i|C)$"
   ]
  },
  {
   "cell_type": "code",
   "execution_count": 119,
   "metadata": {
    "colab": {},
    "colab_type": "code",
    "id": "_JUB-OvnuG1S"
   },
   "outputs": [],
   "source": [
    "class Naive_Bayes():\n",
    "    \"\"\"\n",
    "    \n",
    "    Naive Bayes classifer\n",
    "    \n",
    "    Attributes:\n",
    "        prior: P(Y)\n",
    "        likelihood: P(X_j | Y)\n",
    "    \"\"\"\n",
    "    \n",
    "    def __init__(self):\n",
    "        \"\"\"\n",
    "            Some initializations, if neccesary\n",
    "        \"\"\"\n",
    "        \n",
    "        self.model_name = 'Naive Bayes'\n",
    "    \n",
    "    \n",
    "    def fit(self, X_train: np.array, y_train: np.array):\n",
    "        \n",
    "        \"\"\" \n",
    "            The fit function fits the Naive Bayes model based on the training data. \n",
    "            Here, we assume that all the features are **discrete** features. \n",
    "            \n",
    "            X_train is a matrix or 2-D numpy array, represnting training instances. \n",
    "            Each training instance is a feature vector. \n",
    "\n",
    "            y_train contains the corresponding labels. There might be multiple (i.e., > 2) classes.\n",
    "        \"\"\"\n",
    "        \n",
    "        \"\"\"\n",
    "            TODO: 1. Modify and add some codes to the following for-loop\n",
    "                     to compute the correct prior distribution of all y labels.\n",
    "                  2. Make sure they are normalized to a distribution.\n",
    "        \"\"\"\n",
    "        \n",
    "        # might as well store for making prediction easier. this tag index system is kind of annoying and i would prefer to not have to parse that information out. \n",
    "        self.y_labels = np.unique(y_train)\n",
    "        # return self.y_labels\n",
    "        \n",
    "        self.y_counts = dict()\n",
    "        for value in y_train:\n",
    "            tag = f\"Y = {value}\"\n",
    "            self.y_counts[tag] = self.y_counts.get(tag, 0) + 1\n",
    "        self.prior = {k: v/len(y_train) for k, v in self.y_counts.items()}\n",
    "        # return self.prior\n",
    "            \n",
    "        \"\"\"\n",
    "            TODO: 3. Modify and add some codes to the following for-loops\n",
    "                     to compute the correct likelihood P(X_j | Y).\n",
    "                  4. Make sure they are normalized to distributions.\n",
    "        \"\"\"\n",
    "        \n",
    "        self.likelihood = dict()\n",
    "        for x, y in zip(X_train, y_train):\n",
    "            x = np.array(x).reshape(-1) # taking the index of a matrix seems to force you to get back a matrix no matter what. \n",
    "            for j in range(len(x)):\n",
    "                tag = f\"X{j} = {x[j]} | Y = {y}\"\n",
    "                # self.likelihood[tag] = self.likelihood.get(tag, 0) + (1)\n",
    "                self.likelihood[tag] = self.likelihood.get(tag, 0) + (1/self.y_counts[f\"Y = {y}\"])\n",
    "                \n",
    "        return self.likelihood\n",
    "\n",
    "        \"\"\"\n",
    "            TODO: 5. Think about whether we really need P(X_1 = x_1, X_2 = x_2, ..., X_d = x_d)\n",
    "                     in practice?\n",
    "                  6. Does this really matter for the final classification results?\n",
    "        \"\"\"\n",
    "        \n",
    "        # no you don't. you can calculate that information on the fly when you need it. i suppose that if you have a ton of queries, it might be slightly more efficient to calculate those values beforehand. \n",
    "\n",
    "        \n",
    "    def ind_predict(self, x : list):\n",
    "        \n",
    "        \"\"\" \n",
    "            Predict the most likely class label of one test instance based on its feature vector x.\n",
    "        \"\"\"\n",
    "        \n",
    "        \"\"\"\n",
    "            TODO: 7. Enumerate all possible class labels and compute the likelihood \n",
    "                     based on the given feature vector x. Don't forget to incorporate \n",
    "                     both the prior and likelihood.\n",
    "                  8. Pick the label with the higest probability. \n",
    "                  9. How to deal with very small probability values, especially\n",
    "                     when the feature vector is of a high dimension. (Hint: log)\n",
    "                  10. How to how to deal with unknown feature values?\n",
    "        \"\"\"\n",
    "        \n",
    "        # ok so we're going to be calculating log probs. log is a monotonically increasing function so we can just compare the log probs.\n",
    "        # if unkseen feature value across all just return 0 probability and no class. all logprobs will be -inf. leads to a tie, never setting ret. ret is returned as none. \n",
    "        \n",
    "        # ret, max_prob = None, 0\n",
    "        # for y in self.y_labels:\n",
    "        #     prob = 1\n",
    "        #     for index, value in enumerate(x):\n",
    "        #         tag = f\"X{index} = {value} | Y = {y}\"\n",
    "        #         prob *= self.likelihood.get(tag, 0) # no smoothing\n",
    "                \n",
    "        #     if prob > max_prob:\n",
    "        #         max_prob = prob\n",
    "        #         ret = y\n",
    "                    \n",
    "        # # print(ret)\n",
    "        # return ret\n",
    "        \n",
    "        ret, max_logprob = None, -np.inf\n",
    "        for y in self.y_labels:\n",
    "            logprob = np.log(self.prior[f\"Y = {y}\"])\n",
    "            for index, value in enumerate(x):\n",
    "                tag = f\"X{index} = {value} | Y = {y}\"\n",
    "                logprob += np.log(self.likelihood.get(tag, 0)) # no smoothing\n",
    "            \n",
    "            if logprob > max_logprob:\n",
    "                max_logprob = logprob\n",
    "                ret = y\n",
    "        return ret\n",
    "    \n",
    "    \n",
    "    def predict(self, X):\n",
    "        \n",
    "        print(X.shape)\n",
    "        \"\"\"\n",
    "            X is a matrix or 2-D numpy array, represnting testing instances. \n",
    "            Each testing instance is a feature vector. \n",
    "            \n",
    "            Return the predictions of all instances in a list.\n",
    "        \"\"\"\n",
    "        \n",
    "        \"\"\"\n",
    "            TODO: 11. Revise the following for-loop to call ind_predict to get predictions.\n",
    "        \"\"\"\n",
    "        \n",
    "        ret = []\n",
    "        for x in X:\n",
    "            ret.append(self.ind_predict(np.array(x).reshape(-1)))\n",
    "        \n",
    "        return ret"
   ]
  },
  {
   "cell_type": "code",
   "execution_count": 7,
   "metadata": {
    "colab": {},
    "colab_type": "code",
    "id": "0g4b0OM7uG1U"
   },
   "outputs": [],
   "source": [
    "url = 'https://archive.ics.uci.edu/ml/machine-learning-databases/balance-scale/balance-scale.data'\n",
    "col = ['class_name','left_weight','left_distance','right_weight','right_distance']\n",
    "data = pd.read_csv(url, delimiter = ',', names = col)"
   ]
  },
  {
   "cell_type": "code",
   "execution_count": 8,
   "metadata": {
    "colab": {},
    "colab_type": "code",
    "id": "Hq7_a9C0uG1W",
    "outputId": "9f21f418-fa7d-4a77-dfc0-186ec3424e61"
   },
   "outputs": [
    {
     "data": {
      "text/html": [
       "<div>\n",
       "<style scoped>\n",
       "    .dataframe tbody tr th:only-of-type {\n",
       "        vertical-align: middle;\n",
       "    }\n",
       "\n",
       "    .dataframe tbody tr th {\n",
       "        vertical-align: top;\n",
       "    }\n",
       "\n",
       "    .dataframe thead th {\n",
       "        text-align: right;\n",
       "    }\n",
       "</style>\n",
       "<table border=\"1\" class=\"dataframe\">\n",
       "  <thead>\n",
       "    <tr style=\"text-align: right;\">\n",
       "      <th></th>\n",
       "      <th>class_name</th>\n",
       "      <th>left_weight</th>\n",
       "      <th>left_distance</th>\n",
       "      <th>right_weight</th>\n",
       "      <th>right_distance</th>\n",
       "    </tr>\n",
       "  </thead>\n",
       "  <tbody>\n",
       "    <tr>\n",
       "      <th>0</th>\n",
       "      <td>B</td>\n",
       "      <td>1</td>\n",
       "      <td>1</td>\n",
       "      <td>1</td>\n",
       "      <td>1</td>\n",
       "    </tr>\n",
       "    <tr>\n",
       "      <th>1</th>\n",
       "      <td>R</td>\n",
       "      <td>1</td>\n",
       "      <td>1</td>\n",
       "      <td>1</td>\n",
       "      <td>2</td>\n",
       "    </tr>\n",
       "    <tr>\n",
       "      <th>2</th>\n",
       "      <td>R</td>\n",
       "      <td>1</td>\n",
       "      <td>1</td>\n",
       "      <td>1</td>\n",
       "      <td>3</td>\n",
       "    </tr>\n",
       "    <tr>\n",
       "      <th>3</th>\n",
       "      <td>R</td>\n",
       "      <td>1</td>\n",
       "      <td>1</td>\n",
       "      <td>1</td>\n",
       "      <td>4</td>\n",
       "    </tr>\n",
       "    <tr>\n",
       "      <th>4</th>\n",
       "      <td>R</td>\n",
       "      <td>1</td>\n",
       "      <td>1</td>\n",
       "      <td>1</td>\n",
       "      <td>5</td>\n",
       "    </tr>\n",
       "    <tr>\n",
       "      <th>...</th>\n",
       "      <td>...</td>\n",
       "      <td>...</td>\n",
       "      <td>...</td>\n",
       "      <td>...</td>\n",
       "      <td>...</td>\n",
       "    </tr>\n",
       "    <tr>\n",
       "      <th>620</th>\n",
       "      <td>L</td>\n",
       "      <td>5</td>\n",
       "      <td>5</td>\n",
       "      <td>5</td>\n",
       "      <td>1</td>\n",
       "    </tr>\n",
       "    <tr>\n",
       "      <th>621</th>\n",
       "      <td>L</td>\n",
       "      <td>5</td>\n",
       "      <td>5</td>\n",
       "      <td>5</td>\n",
       "      <td>2</td>\n",
       "    </tr>\n",
       "    <tr>\n",
       "      <th>622</th>\n",
       "      <td>L</td>\n",
       "      <td>5</td>\n",
       "      <td>5</td>\n",
       "      <td>5</td>\n",
       "      <td>3</td>\n",
       "    </tr>\n",
       "    <tr>\n",
       "      <th>623</th>\n",
       "      <td>L</td>\n",
       "      <td>5</td>\n",
       "      <td>5</td>\n",
       "      <td>5</td>\n",
       "      <td>4</td>\n",
       "    </tr>\n",
       "    <tr>\n",
       "      <th>624</th>\n",
       "      <td>B</td>\n",
       "      <td>5</td>\n",
       "      <td>5</td>\n",
       "      <td>5</td>\n",
       "      <td>5</td>\n",
       "    </tr>\n",
       "  </tbody>\n",
       "</table>\n",
       "<p>625 rows × 5 columns</p>\n",
       "</div>"
      ],
      "text/plain": [
       "    class_name  left_weight  left_distance  right_weight  right_distance\n",
       "0            B            1              1             1               1\n",
       "1            R            1              1             1               2\n",
       "2            R            1              1             1               3\n",
       "3            R            1              1             1               4\n",
       "4            R            1              1             1               5\n",
       "..         ...          ...            ...           ...             ...\n",
       "620          L            5              5             5               1\n",
       "621          L            5              5             5               2\n",
       "622          L            5              5             5               3\n",
       "623          L            5              5             5               4\n",
       "624          B            5              5             5               5\n",
       "\n",
       "[625 rows x 5 columns]"
      ]
     },
     "execution_count": 8,
     "metadata": {},
     "output_type": "execute_result"
    }
   ],
   "source": [
    "data"
   ]
  },
  {
   "cell_type": "code",
   "execution_count": 9,
   "metadata": {
    "colab": {},
    "colab_type": "code",
    "id": "ZAsYzCPzuG1Z",
    "outputId": "60ec9f98-d513-479d-a6cf-e65d50d2d3c0"
   },
   "outputs": [
    {
     "data": {
      "text/plain": [
       "R    288\n",
       "L    288\n",
       "B     49\n",
       "Name: class_name, dtype: int64"
      ]
     },
     "execution_count": 9,
     "metadata": {},
     "output_type": "execute_result"
    }
   ],
   "source": [
    "data.class_name.value_counts()"
   ]
  },
  {
   "cell_type": "code",
   "execution_count": 10,
   "metadata": {
    "colab": {},
    "colab_type": "code",
    "id": "0JjkLsxGuG1e"
   },
   "outputs": [],
   "source": [
    "X = np.matrix(data.iloc[:,1:])\n",
    "y = data.class_name\n",
    "from sklearn.model_selection import train_test_split\n",
    "X_train, X_test, y_train, y_test = train_test_split(X, y, test_size=0.33,random_state = 88)"
   ]
  },
  {
   "cell_type": "code",
   "execution_count": 11,
   "metadata": {},
   "outputs": [
    {
     "data": {
      "text/plain": [
       "L    202\n",
       "R    184\n",
       "B     32\n",
       "Name: class_name, dtype: int64"
      ]
     },
     "execution_count": 11,
     "metadata": {},
     "output_type": "execute_result"
    }
   ],
   "source": [
    "y_train.value_counts()"
   ]
  },
  {
   "cell_type": "code",
   "execution_count": 72,
   "metadata": {},
   "outputs": [
    {
     "data": {
      "text/plain": [
       "{'X0 = 1 | Y = R': 0.3695652173913047,\n",
       " 'X1 = 5 | Y = R': 0.0869565217391304,\n",
       " 'X2 = 2 | Y = R': 0.15760869565217384,\n",
       " 'X3 = 5 | Y = R': 0.3097826086956523,\n",
       " 'X1 = 3 | Y = R': 0.17934782608695643,\n",
       " 'X2 = 5 | Y = R': 0.331521739130435,\n",
       " 'X3 = 1 | Y = R': 0.05978260869565216,\n",
       " 'X0 = 3 | Y = L': 0.20792079207920802,\n",
       " 'X1 = 5 | Y = L': 0.32178217821782196,\n",
       " 'X2 = 1 | Y = L': 0.33168316831683187,\n",
       " 'X3 = 3 | Y = L': 0.18316831683168325,\n",
       " 'X0 = 5 | Y = L': 0.32178217821782196,\n",
       " 'X1 = 4 | Y = L': 0.2970297029702972,\n",
       " 'X2 = 5 | Y = L': 0.09900990099009903,\n",
       " 'X3 = 1 | Y = L': 0.34653465346534673,\n",
       " 'X0 = 3 | Y = R': 0.12499999999999994,\n",
       " 'X1 = 2 | Y = R': 0.2445652173913042,\n",
       " 'X2 = 4 | Y = R': 0.20652173913043467,\n",
       " 'X3 = 4 | Y = R': 0.26630434782608686,\n",
       " 'X0 = 5 | Y = R': 0.12499999999999994,\n",
       " 'X1 = 1 | Y = R': 0.347826086956522,\n",
       " 'X2 = 3 | Y = R': 0.23369565217391292,\n",
       " 'X0 = 4 | Y = L': 0.2722772277227724,\n",
       " 'X2 = 4 | Y = L': 0.1336633663366337,\n",
       " 'X3 = 4 | Y = L': 0.1435643564356436,\n",
       " 'X3 = 2 | Y = L': 0.22772277227722784,\n",
       " 'X0 = 4 | Y = R': 0.1304347826086956,\n",
       " 'X3 = 2 | Y = R': 0.1304347826086956,\n",
       " 'X0 = 2 | Y = L': 0.13861386138613865,\n",
       " 'X2 = 3 | Y = L': 0.17326732673267334,\n",
       " 'X0 = 5 | Y = B': 0.1875,\n",
       " 'X1 = 1 | Y = B': 0.21875,\n",
       " 'X2 = 1 | Y = B': 0.15625,\n",
       " 'X3 = 5 | Y = B': 0.15625,\n",
       " 'X3 = 3 | Y = R': 0.23369565217391292,\n",
       " 'X3 = 5 | Y = L': 0.09900990099009903,\n",
       " 'X1 = 2 | Y = L': 0.15841584158415847,\n",
       " 'X2 = 2 | Y = L': 0.2623762376237625,\n",
       " 'X1 = 4 | Y = R': 0.1413043478260869,\n",
       " 'X0 = 1 | Y = L': 0.059405940594059396,\n",
       " 'X0 = 3 | Y = B': 0.21875,\n",
       " 'X1 = 3 | Y = B': 0.1875,\n",
       " 'X2 = 3 | Y = B': 0.1875,\n",
       " 'X3 = 3 | Y = B': 0.21875,\n",
       " 'X2 = 1 | Y = R': 0.07065217391304346,\n",
       " 'X0 = 4 | Y = B': 0.21875,\n",
       " 'X1 = 2 | Y = B': 0.25,\n",
       " 'X2 = 4 | Y = B': 0.21875,\n",
       " 'X3 = 2 | Y = B': 0.25,\n",
       " 'X1 = 5 | Y = B': 0.125,\n",
       " 'X2 = 5 | Y = B': 0.15625,\n",
       " 'X0 = 2 | Y = R': 0.24999999999999986,\n",
       " 'X1 = 3 | Y = L': 0.1782178217821783,\n",
       " 'X3 = 1 | Y = B': 0.1875,\n",
       " 'X0 = 2 | Y = B': 0.21875,\n",
       " 'X1 = 1 | Y = L': 0.04455445544554455,\n",
       " 'X0 = 1 | Y = B': 0.15625,\n",
       " 'X2 = 2 | Y = B': 0.28125,\n",
       " 'X1 = 4 | Y = B': 0.21875,\n",
       " 'X3 = 4 | Y = B': 0.1875}"
      ]
     },
     "execution_count": 72,
     "metadata": {},
     "output_type": "execute_result"
    }
   ],
   "source": [
    "Naive_Bayes().fit(X_train, y_train)"
   ]
  },
  {
   "cell_type": "code",
   "execution_count": 104,
   "metadata": {},
   "outputs": [
    {
     "data": {
      "text/plain": [
       "60"
      ]
     },
     "execution_count": 104,
     "metadata": {},
     "output_type": "execute_result"
    }
   ],
   "source": [
    "len(clf.likelihood.values())"
   ]
  },
  {
   "cell_type": "code",
   "execution_count": 120,
   "metadata": {
    "colab": {},
    "colab_type": "code",
    "id": "ZxU7v9SxuG1f"
   },
   "outputs": [
    {
     "data": {
      "text/plain": [
       "{'X0 = 1 | Y = R': 0.3695652173913047,\n",
       " 'X1 = 5 | Y = R': 0.0869565217391304,\n",
       " 'X2 = 2 | Y = R': 0.15760869565217384,\n",
       " 'X3 = 5 | Y = R': 0.3097826086956523,\n",
       " 'X1 = 3 | Y = R': 0.17934782608695643,\n",
       " 'X2 = 5 | Y = R': 0.331521739130435,\n",
       " 'X3 = 1 | Y = R': 0.05978260869565216,\n",
       " 'X0 = 3 | Y = L': 0.20792079207920802,\n",
       " 'X1 = 5 | Y = L': 0.32178217821782196,\n",
       " 'X2 = 1 | Y = L': 0.33168316831683187,\n",
       " 'X3 = 3 | Y = L': 0.18316831683168325,\n",
       " 'X0 = 5 | Y = L': 0.32178217821782196,\n",
       " 'X1 = 4 | Y = L': 0.2970297029702972,\n",
       " 'X2 = 5 | Y = L': 0.09900990099009903,\n",
       " 'X3 = 1 | Y = L': 0.34653465346534673,\n",
       " 'X0 = 3 | Y = R': 0.12499999999999994,\n",
       " 'X1 = 2 | Y = R': 0.2445652173913042,\n",
       " 'X2 = 4 | Y = R': 0.20652173913043467,\n",
       " 'X3 = 4 | Y = R': 0.26630434782608686,\n",
       " 'X0 = 5 | Y = R': 0.12499999999999994,\n",
       " 'X1 = 1 | Y = R': 0.347826086956522,\n",
       " 'X2 = 3 | Y = R': 0.23369565217391292,\n",
       " 'X0 = 4 | Y = L': 0.2722772277227724,\n",
       " 'X2 = 4 | Y = L': 0.1336633663366337,\n",
       " 'X3 = 4 | Y = L': 0.1435643564356436,\n",
       " 'X3 = 2 | Y = L': 0.22772277227722784,\n",
       " 'X0 = 4 | Y = R': 0.1304347826086956,\n",
       " 'X3 = 2 | Y = R': 0.1304347826086956,\n",
       " 'X0 = 2 | Y = L': 0.13861386138613865,\n",
       " 'X2 = 3 | Y = L': 0.17326732673267334,\n",
       " 'X0 = 5 | Y = B': 0.1875,\n",
       " 'X1 = 1 | Y = B': 0.21875,\n",
       " 'X2 = 1 | Y = B': 0.15625,\n",
       " 'X3 = 5 | Y = B': 0.15625,\n",
       " 'X3 = 3 | Y = R': 0.23369565217391292,\n",
       " 'X3 = 5 | Y = L': 0.09900990099009903,\n",
       " 'X1 = 2 | Y = L': 0.15841584158415847,\n",
       " 'X2 = 2 | Y = L': 0.2623762376237625,\n",
       " 'X1 = 4 | Y = R': 0.1413043478260869,\n",
       " 'X0 = 1 | Y = L': 0.059405940594059396,\n",
       " 'X0 = 3 | Y = B': 0.21875,\n",
       " 'X1 = 3 | Y = B': 0.1875,\n",
       " 'X2 = 3 | Y = B': 0.1875,\n",
       " 'X3 = 3 | Y = B': 0.21875,\n",
       " 'X2 = 1 | Y = R': 0.07065217391304346,\n",
       " 'X0 = 4 | Y = B': 0.21875,\n",
       " 'X1 = 2 | Y = B': 0.25,\n",
       " 'X2 = 4 | Y = B': 0.21875,\n",
       " 'X3 = 2 | Y = B': 0.25,\n",
       " 'X1 = 5 | Y = B': 0.125,\n",
       " 'X2 = 5 | Y = B': 0.15625,\n",
       " 'X0 = 2 | Y = R': 0.24999999999999986,\n",
       " 'X1 = 3 | Y = L': 0.1782178217821783,\n",
       " 'X3 = 1 | Y = B': 0.1875,\n",
       " 'X0 = 2 | Y = B': 0.21875,\n",
       " 'X1 = 1 | Y = L': 0.04455445544554455,\n",
       " 'X0 = 1 | Y = B': 0.15625,\n",
       " 'X2 = 2 | Y = B': 0.28125,\n",
       " 'X1 = 4 | Y = B': 0.21875,\n",
       " 'X3 = 4 | Y = B': 0.1875}"
      ]
     },
     "execution_count": 120,
     "metadata": {},
     "output_type": "execute_result"
    }
   ],
   "source": [
    "clf = Naive_Bayes()\n",
    "clf.fit(X_train, y_train)"
   ]
  },
  {
   "cell_type": "code",
   "execution_count": 121,
   "metadata": {},
   "outputs": [
    {
     "name": "stdout",
     "output_type": "stream",
     "text": [
      "(207, 4)\n"
     ]
    }
   ],
   "source": [
    "y_test = np.array(y_test)\n",
    "y_hat = clf.predict(X_test)"
   ]
  },
  {
   "cell_type": "markdown",
   "metadata": {
    "colab_type": "text",
    "id": "Y2RZ2jYsuG1h"
   },
   "source": [
    "Overall Accuracy"
   ]
  },
  {
   "cell_type": "code",
   "execution_count": 122,
   "metadata": {
    "colab": {},
    "colab_type": "code",
    "id": "MpfumdTCuG1i",
    "outputId": "6925cbf8-873b-49f0-80b2-754f569c3f8b"
   },
   "outputs": [
    {
     "data": {
      "text/plain": [
       "0.8840579710144928"
      ]
     },
     "execution_count": 122,
     "metadata": {},
     "output_type": "execute_result"
    }
   ],
   "source": [
    "sum(y_hat == y_test)/ 207  # you should get something like 0.88"
   ]
  },
  {
   "cell_type": "code",
   "execution_count": 110,
   "metadata": {},
   "outputs": [
    {
     "data": {
      "text/plain": [
       "matrix([[1, 2, 2, 1]])"
      ]
     },
     "execution_count": 110,
     "metadata": {},
     "output_type": "execute_result"
    }
   ],
   "source": [
    "X_test[2]"
   ]
  },
  {
   "cell_type": "code",
   "execution_count": 118,
   "metadata": {},
   "outputs": [
    {
     "name": "stdout",
     "output_type": "stream",
     "text": [
      "B\n",
      "0.07655502392344497\n",
      "0.15625\n",
      "0.25\n",
      "0.28125\n",
      "0.1875\n",
      "L\n",
      "0.48325358851674644\n",
      "0.059405940594059396\n",
      "0.15841584158415847\n",
      "0.2623762376237625\n",
      "0.34653465346534673\n",
      "R\n",
      "0.44019138755980863\n",
      "0.3695652173913047\n",
      "0.2445652173913042\n",
      "0.15760869565217384\n",
      "0.05978260869565216\n"
     ]
    }
   ],
   "source": [
    "# matrix([[1, 2, 2, 1]])\n",
    "for y_label in clf.y_labels:\n",
    "    print(y_label)\n",
    "    print(clf.prior.get(f\"Y = {y_label}\"))\n",
    "    print(clf.likelihood.get(f\"X0 = 1 | Y = {y_label}\"))\n",
    "    print(clf.likelihood.get(f\"X1 = 2 | Y = {y_label}\"))\n",
    "    print(clf.likelihood.get(f\"X2 = 2 | Y = {y_label}\"))\n",
    "    print(clf.likelihood.get(f\"X3 = 1 | Y = {y_label}\"))\n"
   ]
  },
  {
   "cell_type": "code",
   "execution_count": 100,
   "metadata": {
    "colab": {},
    "colab_type": "code",
    "id": "ZfZ9Mg4wuG1n"
   },
   "outputs": [
    {
     "name": "stderr",
     "output_type": "stream",
     "text": [
      "/Users/elim-mbp-01/.pyenv/versions/3.8.16/envs/dsc80_39/lib/python3.8/site-packages/sklearn/utils/validation.py:585: FutureWarning: np.matrix usage is deprecated in 1.0 and will raise a TypeError in 1.2. Please convert to a numpy array with np.asarray. For more information see: https://numpy.org/doc/stable/reference/generated/numpy.matrix.html\n",
      "  warnings.warn(\n",
      "/Users/elim-mbp-01/.pyenv/versions/3.8.16/envs/dsc80_39/lib/python3.8/site-packages/sklearn/utils/validation.py:585: FutureWarning: np.matrix usage is deprecated in 1.0 and will raise a TypeError in 1.2. Please convert to a numpy array with np.asarray. For more information see: https://numpy.org/doc/stable/reference/generated/numpy.matrix.html\n",
      "  warnings.warn(\n"
     ]
    },
    {
     "data": {
      "text/plain": [
       "0.8840579710144928"
      ]
     },
     "execution_count": 100,
     "metadata": {},
     "output_type": "execute_result"
    }
   ],
   "source": [
    "# naives bayes sklearn\n",
    "from sklearn.naive_bayes import CategoricalNB\n",
    "cnb = CategoricalNB()\n",
    "cnb.fit(X_train, y_train)\n",
    "cnb_pred = cnb.predict(X_test)\n",
    "sum(cnb_pred == y_test) / 207"
   ]
  },
  {
   "cell_type": "code",
   "execution_count": 116,
   "metadata": {},
   "outputs": [
    {
     "data": {
      "text/html": [
       "<div>\n",
       "<style scoped>\n",
       "    .dataframe tbody tr th:only-of-type {\n",
       "        vertical-align: middle;\n",
       "    }\n",
       "\n",
       "    .dataframe tbody tr th {\n",
       "        vertical-align: top;\n",
       "    }\n",
       "\n",
       "    .dataframe thead th {\n",
       "        text-align: right;\n",
       "    }\n",
       "</style>\n",
       "<table border=\"1\" class=\"dataframe\">\n",
       "  <thead>\n",
       "    <tr style=\"text-align: right;\">\n",
       "      <th></th>\n",
       "      <th>y_hat</th>\n",
       "      <th>cnb_pred</th>\n",
       "      <th>y_hat == cnb_pred</th>\n",
       "    </tr>\n",
       "  </thead>\n",
       "  <tbody>\n",
       "    <tr>\n",
       "      <th>0</th>\n",
       "      <td>R</td>\n",
       "      <td>R</td>\n",
       "      <td>True</td>\n",
       "    </tr>\n",
       "    <tr>\n",
       "      <th>1</th>\n",
       "      <td>L</td>\n",
       "      <td>L</td>\n",
       "      <td>True</td>\n",
       "    </tr>\n",
       "    <tr>\n",
       "      <th>2</th>\n",
       "      <td>B</td>\n",
       "      <td>L</td>\n",
       "      <td>False</td>\n",
       "    </tr>\n",
       "    <tr>\n",
       "      <th>3</th>\n",
       "      <td>B</td>\n",
       "      <td>R</td>\n",
       "      <td>False</td>\n",
       "    </tr>\n",
       "    <tr>\n",
       "      <th>4</th>\n",
       "      <td>B</td>\n",
       "      <td>L</td>\n",
       "      <td>False</td>\n",
       "    </tr>\n",
       "  </tbody>\n",
       "</table>\n",
       "</div>"
      ],
      "text/plain": [
       "  y_hat cnb_pred  y_hat == cnb_pred\n",
       "0     R        R               True\n",
       "1     L        L               True\n",
       "2     B        L              False\n",
       "3     B        R              False\n",
       "4     B        L              False"
      ]
     },
     "execution_count": 116,
     "metadata": {},
     "output_type": "execute_result"
    }
   ],
   "source": [
    "# create dataframe with columns: y_hat, cnb_pred, and y_hat == cnb_pred\n",
    "df = pd.DataFrame({'y_hat': y_hat, 'cnb_pred': cnb_pred, 'y_hat == cnb_pred': y_hat == cnb_pred})\n",
    "df.head()"
   ]
  },
  {
   "cell_type": "code",
   "execution_count": 107,
   "metadata": {},
   "outputs": [
    {
     "data": {
      "text/plain": [
       "array(['L', 'R'], dtype='<U1')"
      ]
     },
     "execution_count": 107,
     "metadata": {},
     "output_type": "execute_result"
    }
   ],
   "source": [
    "np.unique(cnb_pred)"
   ]
  },
  {
   "cell_type": "code",
   "execution_count": 108,
   "metadata": {},
   "outputs": [
    {
     "data": {
      "text/plain": [
       "array(['B', 'L', 'R'], dtype='<U1')"
      ]
     },
     "execution_count": 108,
     "metadata": {},
     "output_type": "execute_result"
    }
   ],
   "source": [
    "np.unique(y_hat)"
   ]
  }
 ],
 "metadata": {
  "colab": {
   "collapsed_sections": [],
   "name": "New_Naive_Bayes.ipynb",
   "provenance": []
  },
  "kernelspec": {
   "display_name": "Python 3",
   "language": "python",
   "name": "python3"
  },
  "language_info": {
   "codemirror_mode": {
    "name": "ipython",
    "version": 3
   },
   "file_extension": ".py",
   "mimetype": "text/x-python",
   "name": "python",
   "nbconvert_exporter": "python",
   "pygments_lexer": "ipython3",
   "version": "3.8.16"
  }
 },
 "nbformat": 4,
 "nbformat_minor": 1
}
