{
 "cells": [
  {
   "cell_type": "code",
   "execution_count": 1,
   "metadata": {},
   "outputs": [],
   "source": [
    "import numpy as np\n",
    "import pandas as pd"
   ]
  },
  {
   "cell_type": "markdown",
   "metadata": {},
   "source": [
    "# K-Means Algorithm"
   ]
  },
  {
   "cell_type": "markdown",
   "metadata": {},
   "source": [
    "K-Means algorithm is a clustring algorithm. It is also a classic Expectation-Maximization algorithm.<br> \n",
    "Given a set of observations (x1, x2, ..., xn), where each observation is a d-dimensional real vector, k-means clustering aims to partition the n observations into k (≤ n) sets S = {S1, S2, ..., Sk} so as to minimize the within-cluster sum of squares (WCSS) (i.e. variance) <br>\n",
    "The Step is as follows:\n",
    "1. Randomly select k \"cluster centers\" from the data set;<br>\n",
    "2. For each iteration (iterate through all points):<br>\n",
    "(1). Find the nearest center for each point, and store the cluster for each center; <br>\n",
    "(2). Calculate the new center for each cluster; <br>\n",
    "(3). If there are no change of the means, end the loop; otherwise iterate. <br>"
   ]
  },
  {
   "cell_type": "code",
   "execution_count": 28,
   "metadata": {},
   "outputs": [],
   "source": [
    "class KMeans():\n",
    "    def __init__(self, k = 3, num_iter = 1000):\n",
    "        self.model_name = 'KMeans'\n",
    "        self.k = k\n",
    "        self.num_iter = num_iter\n",
    "        self.centers = None\n",
    "        self.RM = None\n",
    "        \n",
    "        self.centroids = None\n",
    "        self.closest_centroid = None\n",
    "        \n",
    "    def train(self, X):\n",
    "        np.random.seed(42)\n",
    "        initial_centroid_indices = np.random.choice(X.shape[0], size=self.k, replace=False)\n",
    "        self.centroids = X[initial_centroid_indices]\n",
    "        \n",
    "        for _ in range(self.num_iter):\n",
    "            distance_vectors = (self.centroids.reshape(self.k, 1, -1) - X)\n",
    "            distances_to_centroids = np.linalg.norm(distance_vectors, axis=2)\n",
    "            self.closest_centroid = np.argmin(distances_to_centroids, axis=0) \n",
    "            \n",
    "            new_centroids = np.array([X[self.closest_centroid == centroid_index].mean(axis=0) for centroid_index in range(self.k)])\n",
    "            \n",
    "            if np.all(new_centroids == self.centroids):\n",
    "                break\n",
    "            else:\n",
    "                self.centroids = new_centroids\n",
    "        \n",
    "        # using an identity matrix to one hot encode\n",
    "        self.RM = np.eye(self.k)[self.closest_centroid]\n",
    "        \n",
    "        return self # not sure why the hell the api is designed this way"
   ]
  },
  {
   "cell_type": "code",
   "execution_count": 117,
   "metadata": {},
   "outputs": [],
   "source": [
    "import matplotlib.pyplot as plt\n",
    "from sklearn import datasets\n",
    "iris = datasets.load_iris()\n",
    "X = iris.data\n",
    "Y = iris.target"
   ]
  },
  {
   "cell_type": "code",
   "execution_count": 118,
   "metadata": {},
   "outputs": [
    {
     "data": {
      "text/plain": [
       "(150, 2)"
      ]
     },
     "execution_count": 118,
     "metadata": {},
     "output_type": "execute_result"
    }
   ],
   "source": [
    "X = X[:,2:4]\n",
    "X.shape"
   ]
  },
  {
   "cell_type": "code",
   "execution_count": 124,
   "metadata": {},
   "outputs": [],
   "source": [
    "clf = KMeans(k = 3)\n",
    "model = clf.train(X)"
   ]
  },
  {
   "cell_type": "code",
   "execution_count": 125,
   "metadata": {},
   "outputs": [
    {
     "data": {
      "text/plain": [
       "(150, 3)"
      ]
     },
     "execution_count": 125,
     "metadata": {},
     "output_type": "execute_result"
    }
   ],
   "source": [
    "model.RM.shape"
   ]
  },
  {
   "cell_type": "code",
   "execution_count": 126,
   "metadata": {},
   "outputs": [
    {
     "name": "stdout",
     "output_type": "stream",
     "text": [
      "(150,) (150, 2)\n",
      "(150,) (150, 2)\n",
      "(150,) (150, 2)\n",
      "(54, 2)\n",
      "(50, 2)\n",
      "(46, 2)\n"
     ]
    },
    {
     "data": {
      "image/png": "[encoded data removed]",
      "text/plain": [
       "<Figure size 640x480 with 1 Axes>"
      ]
     },
     "metadata": {},
     "output_type": "display_data"
    }
   ],
   "source": [
    "r, c = model.RM.shape\n",
    "groups = []\n",
    "for i in range(c):\n",
    "    index = model.RM[:,i] == 1\n",
    "    print(index.shape, X.shape)\n",
    "    groups.append(X[index])\n",
    "fig, ax = plt.subplots()\n",
    "ax.margins(0.05)\n",
    "for group in groups:\n",
    "    print(group.shape)\n",
    "    ax.plot(group[:,0], group[:,1], marker='o', linestyle='', ms=5)"
   ]
  },
  {
   "cell_type": "code",
   "execution_count": 33,
   "metadata": {},
   "outputs": [
    {
     "name": "stdout",
     "output_type": "stream",
     "text": [
      "(48, 2)\n",
      "(50, 2)\n",
      "(52, 2)\n"
     ]
    },
    {
     "name": "stderr",
     "output_type": "stream",
     "text": [
      "D:\\Software\\Anaconda\\lib\\site-packages\\ipykernel_launcher.py:5: FutureWarning: Using a non-tuple sequence for multidimensional indexing is deprecated; use `arr[tuple(seq)]` instead of `arr[seq]`. In the future this will be interpreted as an array index, `arr[np.array(seq)]`, which will result either in an error or a different result.\n",
      "  \"\"\"\n"
     ]
    },
    {
     "data": {
      "image/png": "[encoded data removed]",
      "text/plain": [
       "<Figure size 432x288 with 1 Axes>"
      ]
     },
     "metadata": {
      "needs_background": "light"
     },
     "output_type": "display_data"
    }
   ],
   "source": [
    "r, c = model.RM.shape\n",
    "groups = []\n",
    "for i in range(c):\n",
    "    index = [model.RM[:,i] == 1]\n",
    "    groups.append(X[index])\n",
    "fig, ax = plt.subplots()\n",
    "ax.margins(0.05)\n",
    "for group in groups:\n",
    "    print(group.shape)\n",
    "    ax.plot(group[:,0], group[:,1], marker='o', linestyle='', ms=5)"
   ]
  },
  {
   "cell_type": "code",
   "execution_count": 127,
   "metadata": {},
   "outputs": [],
   "source": [
    "iris = datasets.load_iris()\n",
    "X = iris.data\n",
    "Y = iris.target\n",
    "X = X[:,[0,2]]"
   ]
  },
  {
   "cell_type": "code",
   "execution_count": 129,
   "metadata": {},
   "outputs": [
    {
     "name": "stdout",
     "output_type": "stream",
     "text": [
      "(58, 2)\n",
      "(51, 2)\n",
      "(41, 2)\n"
     ]
    },
    {
     "data": {
      "image/png": "[encoded data removed]",
      "text/plain": [
       "<Figure size 640x480 with 1 Axes>"
      ]
     },
     "metadata": {},
     "output_type": "display_data"
    }
   ],
   "source": [
    "clf = KMeans(k = 3)\n",
    "model = clf.train(X)\n",
    "r, c = model.RM.shape\n",
    "groups = []\n",
    "for i in range(c):\n",
    "    index = model.RM[:,i] == 1\n",
    "    groups.append(X[index])\n",
    "fig, ax = plt.subplots()\n",
    "ax.margins(0.05)\n",
    "for group in groups:\n",
    "    print(group.shape)\n",
    "    ax.plot(group[:,0], group[:,1], marker='o', linestyle='', ms=5)"
   ]
  },
  {
   "cell_type": "code",
   "execution_count": 37,
   "metadata": {},
   "outputs": [
    {
     "name": "stdout",
     "output_type": "stream",
     "text": [
      "(72, 2)\n",
      "(59, 2)\n",
      "(19, 2)\n"
     ]
    },
    {
     "name": "stderr",
     "output_type": "stream",
     "text": [
      "D:\\Software\\Anaconda\\lib\\site-packages\\ipykernel_launcher.py:7: FutureWarning: Using a non-tuple sequence for multidimensional indexing is deprecated; use `arr[tuple(seq)]` instead of `arr[seq]`. In the future this will be interpreted as an array index, `arr[np.array(seq)]`, which will result either in an error or a different result.\n",
      "  import sys\n"
     ]
    },
    {
     "data": {
      "image/png": "[encoded data removed]",
      "text/plain": [
       "<Figure size 432x288 with 1 Axes>"
      ]
     },
     "metadata": {
      "needs_background": "light"
     },
     "output_type": "display_data"
    }
   ],
   "source": [
    "clf = KMeans(k = 3)\n",
    "model = clf.train(X)\n",
    "r, c = model.RM.shape\n",
    "groups = []\n",
    "for i in range(c):\n",
    "    index = [model.RM[:,i] == 1]\n",
    "    groups.append(X[index])\n",
    "fig, ax = plt.subplots()\n",
    "ax.margins(0.05)\n",
    "for group in groups:\n",
    "    print(group.shape)\n",
    "    ax.plot(group[:,0], group[:,1], marker='o', linestyle='', ms=5)"
   ]
  },
  {
   "cell_type": "markdown",
   "metadata": {},
   "source": [
    "## 3 dimension"
   ]
  },
  {
   "cell_type": "code",
   "execution_count": 130,
   "metadata": {},
   "outputs": [],
   "source": [
    "iris = datasets.load_iris()\n",
    "X = iris.data\n",
    "Y = iris.target\n",
    "X = X[:,1:4]"
   ]
  },
  {
   "cell_type": "code",
   "execution_count": 132,
   "metadata": {},
   "outputs": [],
   "source": [
    "clf = KMeans(k = 3)\n",
    "model = clf.train(X)\n",
    "# model = clf.fit(X)"
   ]
  },
  {
   "cell_type": "code",
   "execution_count": 133,
   "metadata": {},
   "outputs": [],
   "source": [
    "from mpl_toolkits.mplot3d import Axes3D"
   ]
  },
  {
   "cell_type": "code",
   "execution_count": 134,
   "metadata": {},
   "outputs": [],
   "source": [
    "groups = []\n",
    "r, c = model.RM.shape\n",
    "for i in range(c):\n",
    "    index = model.RM[:,i] == 1\n",
    "    groups.append(X[index])"
   ]
  },
  {
   "cell_type": "code",
   "execution_count": 135,
   "metadata": {},
   "outputs": [
    {
     "name": "stderr",
     "output_type": "stream",
     "text": [
      "/var/folders/tc/gsvwtmkd7j1_mbm3_418fgc40000gn/T/ipykernel_82260/2997530603.py:2: MatplotlibDeprecationWarning: Axes3D(fig) adding itself to the figure is deprecated since 3.4. Pass the keyword argument auto_add_to_figure=False and use fig.add_axes(ax) to suppress this warning. The default value of auto_add_to_figure will change to False in mpl3.5 and True values will no longer work in 3.6.  This is consistent with other Axes classes.\n",
      "  ax = Axes3D(fig, elev = -150, azim = 130)\n"
     ]
    },
    {
     "data": {
      "image/png": "[encoded data removed]",
      "text/plain": [
       "<Figure size 600x600 with 1 Axes>"
      ]
     },
     "metadata": {},
     "output_type": "display_data"
    }
   ],
   "source": [
    "fig = plt.figure(figsize = (6, 6))\n",
    "ax = Axes3D(fig, elev = -150, azim = 130)\n",
    "for group in groups:\n",
    "    ax.scatter(group[:,0], group[:,1], group[:,2], marker='o')"
   ]
  },
  {
   "cell_type": "markdown",
   "metadata": {},
   "source": [
    "Note: We should expect different results every time we run Kmeans as the centers are randomly initialized."
   ]
  },
  {
   "cell_type": "markdown",
   "metadata": {},
   "source": [
    "# Gaussian Mixture"
   ]
  },
  {
   "cell_type": "markdown",
   "metadata": {},
   "source": [
    "Gaussian Mixture Algorithm is a softer version of the k-means algorithm. It is also a classic example of the Expectation-Maximization Algorithm. <br>\n",
    "In Gaussian Mixture Algorithm, we model the data as coming from a mixture of Gaussians.<br>\n",
    "In this example, we will be using a randomly generated Gaussian Distribution. <br>"
   ]
  },
  {
   "cell_type": "code",
   "execution_count": 3,
   "metadata": {},
   "outputs": [],
   "source": [
    "import numpy as np\n",
    "\n",
    "def gaussian(X, mu, cov):\n",
    "    \"\"\" \n",
    "        Fucntion to create mixtures using the Given matrix X, given covariance and given mu\n",
    "\n",
    "        Return:\n",
    "        transformed x.\n",
    "    \"\"\"\n",
    "    # X should be matirx-like\n",
    "    n = X.shape[1]\n",
    "    diff = (X - mu).T\n",
    "    \n",
    "    return np.diagonal(1 / ((2 * np.pi) ** (n / 2) * np.linalg.det(cov) ** 0.5) * np.exp(-0.5 * np.dot(np.dot(diff.T, np.linalg.inv(cov)), diff))).reshape(-1, 1)\n",
    "    \n",
    "    # return diffs.shape\n",
    "    \n",
    "    # return \n",
    "# np.exp(-0.5 * np.dot(diffs.T, np.linalg.inv(cov), diffs))\n",
    "    "
   ]
  },
  {
   "cell_type": "code",
   "execution_count": 4,
   "metadata": {},
   "outputs": [],
   "source": [
    "from sklearn.datasets import make_blobs"
   ]
  },
  {
   "cell_type": "code",
   "execution_count": 5,
   "metadata": {},
   "outputs": [
    {
     "data": {
      "text/plain": [
       "((500, 3), (500,))"
      ]
     },
     "execution_count": 5,
     "metadata": {},
     "output_type": "execute_result"
    }
   ],
   "source": [
    "X, y = make_blobs(n_samples=500, n_features=3, cluster_std=2, random_state=42)\n",
    "X.shape, y.shape"
   ]
  },
  {
   "cell_type": "code",
   "execution_count": 43,
   "metadata": {},
   "outputs": [
    {
     "data": {
      "text/plain": [
       "array([[9.95407320e-06],\n",
       "       [3.63176537e-04],\n",
       "       [1.45680036e-05],\n",
       "       [3.48926439e-04],\n",
       "       [1.79825941e-04],\n",
       "       [1.20691687e-04],\n",
       "       [3.49898262e-04],\n",
       "       [1.22802415e-04],\n",
       "       [2.93358377e-04],\n",
       "       [9.00075963e-05],\n",
       "       [4.21668442e-04],\n",
       "       [3.48411167e-04],\n",
       "       [3.97369813e-04],\n",
       "       [3.62225039e-04],\n",
       "       [5.40759786e-04],\n",
       "       [4.58061891e-04],\n",
       "       [2.24915066e-04],\n",
       "       [3.41970614e-04],\n",
       "       [3.62799277e-04],\n",
       "       [1.54055592e-04],\n",
       "       [4.70420226e-04],\n",
       "       [3.28267941e-04],\n",
       "       [2.45010582e-04],\n",
       "       [2.68893305e-04],\n",
       "       [2.26657855e-04],\n",
       "       [1.59775850e-04],\n",
       "       [8.61185471e-05],\n",
       "       [7.64882842e-05],\n",
       "       [2.72814614e-04],\n",
       "       [2.45389615e-04],\n",
       "       [3.76596851e-04],\n",
       "       [2.37746502e-04],\n",
       "       [1.45464613e-04],\n",
       "       [1.55841499e-04],\n",
       "       [5.38419924e-04],\n",
       "       [3.36593905e-04],\n",
       "       [3.12190073e-04],\n",
       "       [3.86981423e-05],\n",
       "       [3.52367483e-04],\n",
       "       [3.44464882e-04],\n",
       "       [2.36624979e-04],\n",
       "       [1.26730885e-04],\n",
       "       [8.16108942e-05],\n",
       "       [2.64480981e-04],\n",
       "       [3.35900101e-04],\n",
       "       [1.86467774e-04],\n",
       "       [3.85840051e-04],\n",
       "       [1.99004847e-04],\n",
       "       [3.11848239e-04],\n",
       "       [2.06565810e-04],\n",
       "       [2.07489638e-04],\n",
       "       [1.00301353e-04],\n",
       "       [1.87391530e-04],\n",
       "       [4.25788099e-04],\n",
       "       [4.46783662e-04],\n",
       "       [4.15534197e-04],\n",
       "       [2.82749442e-04],\n",
       "       [3.57537340e-05],\n",
       "       [3.86560148e-04],\n",
       "       [4.54651649e-04],\n",
       "       [1.82031334e-04],\n",
       "       [2.48538797e-04],\n",
       "       [2.00385561e-04],\n",
       "       [4.95095709e-04],\n",
       "       [1.57063338e-04],\n",
       "       [4.57788721e-04],\n",
       "       [2.04574103e-04],\n",
       "       [3.21287442e-04],\n",
       "       [2.41062453e-04],\n",
       "       [2.47735035e-04],\n",
       "       [9.08799467e-05],\n",
       "       [4.03088260e-04],\n",
       "       [1.69427385e-04],\n",
       "       [2.52029716e-04],\n",
       "       [2.60119332e-04],\n",
       "       [9.64536279e-05],\n",
       "       [1.05024735e-04],\n",
       "       [2.55074396e-04],\n",
       "       [4.69451000e-04],\n",
       "       [4.64664744e-04],\n",
       "       [1.00947902e-04],\n",
       "       [1.14052255e-05],\n",
       "       [3.63079045e-04],\n",
       "       [1.86780373e-04],\n",
       "       [1.09962265e-04],\n",
       "       [5.89629144e-05],\n",
       "       [9.79567866e-05],\n",
       "       [1.46441145e-04],\n",
       "       [7.96827190e-05],\n",
       "       [2.82950315e-04],\n",
       "       [3.25575561e-04],\n",
       "       [1.32221380e-04],\n",
       "       [2.27652950e-04],\n",
       "       [1.00667794e-04],\n",
       "       [1.81956619e-04],\n",
       "       [2.57113436e-04],\n",
       "       [2.79038481e-04],\n",
       "       [8.76870511e-05],\n",
       "       [4.53863898e-04],\n",
       "       [6.63269043e-05],\n",
       "       [1.37879921e-04],\n",
       "       [4.37558962e-05],\n",
       "       [6.17215770e-04],\n",
       "       [1.20102651e-04],\n",
       "       [1.82336432e-04],\n",
       "       [2.43960414e-04],\n",
       "       [2.63410648e-04],\n",
       "       [1.28511572e-04],\n",
       "       [2.10443527e-04],\n",
       "       [1.54822299e-04],\n",
       "       [3.46769015e-04],\n",
       "       [7.68599611e-05],\n",
       "       [3.98534636e-05],\n",
       "       [2.37007482e-04],\n",
       "       [3.34681072e-04],\n",
       "       [8.97705414e-05],\n",
       "       [1.58865018e-04],\n",
       "       [2.86173659e-04],\n",
       "       [4.24831176e-04],\n",
       "       [1.18747762e-04],\n",
       "       [7.29231791e-05],\n",
       "       [2.24150791e-04],\n",
       "       [3.03406716e-04],\n",
       "       [1.75771062e-04],\n",
       "       [1.36025799e-04],\n",
       "       [2.13296980e-04],\n",
       "       [2.53729400e-04],\n",
       "       [2.46606218e-04],\n",
       "       [1.04253463e-04],\n",
       "       [1.32488479e-04],\n",
       "       [2.53167745e-04],\n",
       "       [2.00399379e-04],\n",
       "       [3.60273462e-05],\n",
       "       [1.68704525e-04],\n",
       "       [3.74872433e-04],\n",
       "       [1.51512971e-04],\n",
       "       [1.64162203e-04],\n",
       "       [2.48722765e-04],\n",
       "       [3.16065087e-04],\n",
       "       [1.57018465e-04],\n",
       "       [2.27197964e-04],\n",
       "       [2.18617690e-04],\n",
       "       [1.43069977e-04],\n",
       "       [4.94575449e-04],\n",
       "       [3.94963864e-04],\n",
       "       [3.98579223e-04],\n",
       "       [1.85960583e-04],\n",
       "       [1.42735944e-04],\n",
       "       [7.85266614e-05],\n",
       "       [1.96208016e-04],\n",
       "       [2.70937355e-04],\n",
       "       [1.90581813e-04],\n",
       "       [1.64504340e-04],\n",
       "       [1.22188024e-05],\n",
       "       [3.09453913e-04],\n",
       "       [1.94408317e-04],\n",
       "       [2.78937486e-04],\n",
       "       [3.24798980e-04],\n",
       "       [9.44655723e-05],\n",
       "       [3.37055561e-04],\n",
       "       [3.12597111e-04],\n",
       "       [3.26209005e-04],\n",
       "       [3.55676888e-04],\n",
       "       [3.07603421e-04],\n",
       "       [1.52645859e-04],\n",
       "       [2.70382140e-04],\n",
       "       [6.36210993e-05],\n",
       "       [9.54802876e-05],\n",
       "       [2.54258082e-04],\n",
       "       [1.35605072e-04],\n",
       "       [3.18358674e-04],\n",
       "       [4.74720721e-04],\n",
       "       [3.90167330e-04],\n",
       "       [5.23450599e-05],\n",
       "       [2.97294681e-04],\n",
       "       [1.65432289e-04],\n",
       "       [2.35955646e-05],\n",
       "       [3.34646198e-04],\n",
       "       [2.33629996e-04],\n",
       "       [2.29529532e-04],\n",
       "       [2.36893721e-04],\n",
       "       [2.87642439e-04],\n",
       "       [2.54091039e-04],\n",
       "       [3.51213831e-04],\n",
       "       [1.02202747e-04],\n",
       "       [1.42190140e-04],\n",
       "       [3.47727923e-04],\n",
       "       [4.01286796e-04],\n",
       "       [2.10682339e-04],\n",
       "       [1.09949058e-04],\n",
       "       [2.41008912e-04],\n",
       "       [1.88314531e-04],\n",
       "       [1.85637343e-04],\n",
       "       [2.24359211e-04],\n",
       "       [3.06614738e-04],\n",
       "       [2.23206457e-04],\n",
       "       [4.47882733e-04],\n",
       "       [1.73089205e-04],\n",
       "       [2.18217279e-04],\n",
       "       [2.21823085e-04],\n",
       "       [5.79752093e-04],\n",
       "       [4.33530955e-04],\n",
       "       [5.55030201e-04],\n",
       "       [2.64937979e-04],\n",
       "       [7.96097914e-05],\n",
       "       [2.64958631e-04],\n",
       "       [3.01753391e-04],\n",
       "       [9.64682036e-05],\n",
       "       [1.05760333e-04],\n",
       "       [1.62881814e-04],\n",
       "       [2.01229819e-04],\n",
       "       [2.35645689e-05],\n",
       "       [7.54229640e-05],\n",
       "       [1.85384317e-04],\n",
       "       [1.00360173e-04],\n",
       "       [1.21731984e-04],\n",
       "       [3.27063021e-04],\n",
       "       [2.06301139e-04],\n",
       "       [3.94527500e-04],\n",
       "       [5.67361924e-05],\n",
       "       [1.82889284e-04],\n",
       "       [2.31520110e-04],\n",
       "       [4.85221689e-05],\n",
       "       [2.04000836e-04],\n",
       "       [9.79988505e-05],\n",
       "       [4.00042709e-04],\n",
       "       [3.44385471e-04],\n",
       "       [9.24179962e-05],\n",
       "       [1.23721640e-04],\n",
       "       [2.04589799e-04],\n",
       "       [3.93855172e-04],\n",
       "       [3.52976373e-04],\n",
       "       [4.26905358e-04],\n",
       "       [1.71456197e-04],\n",
       "       [4.44880025e-05],\n",
       "       [5.33050458e-04],\n",
       "       [3.79265522e-04],\n",
       "       [2.64698055e-04],\n",
       "       [1.17395148e-04],\n",
       "       [3.29192348e-04],\n",
       "       [2.00058783e-04],\n",
       "       [1.59347586e-04],\n",
       "       [4.74833039e-04],\n",
       "       [3.87628949e-04],\n",
       "       [2.23590265e-04],\n",
       "       [1.61572289e-04],\n",
       "       [1.45474388e-05],\n",
       "       [3.70309932e-04],\n",
       "       [9.64523444e-05],\n",
       "       [2.32994413e-04],\n",
       "       [4.64199653e-04],\n",
       "       [2.30328533e-04],\n",
       "       [1.92237678e-04],\n",
       "       [1.57282652e-04],\n",
       "       [8.03917132e-05],\n",
       "       [2.97089696e-04],\n",
       "       [7.77001323e-05],\n",
       "       [2.33341333e-04],\n",
       "       [2.71801803e-04],\n",
       "       [3.09348168e-04],\n",
       "       [2.02376270e-04],\n",
       "       [6.60649745e-05],\n",
       "       [2.24031454e-04],\n",
       "       [3.11111155e-04],\n",
       "       [3.29422456e-04],\n",
       "       [6.52339246e-06],\n",
       "       [3.45751070e-04],\n",
       "       [2.63202184e-04],\n",
       "       [2.47096804e-04],\n",
       "       [2.67292094e-04],\n",
       "       [5.16072388e-05],\n",
       "       [1.78879836e-04],\n",
       "       [3.58495654e-04],\n",
       "       [7.21606025e-05],\n",
       "       [3.21707763e-04],\n",
       "       [2.09344422e-04],\n",
       "       [1.29757446e-04],\n",
       "       [1.72086135e-04],\n",
       "       [2.51689305e-04],\n",
       "       [3.53578215e-04],\n",
       "       [1.11597417e-04],\n",
       "       [4.61683811e-04],\n",
       "       [1.19285284e-04],\n",
       "       [1.04806259e-04],\n",
       "       [4.44118590e-04],\n",
       "       [4.69677495e-04],\n",
       "       [1.53559559e-04],\n",
       "       [7.09696686e-05],\n",
       "       [2.99266101e-04],\n",
       "       [5.94198768e-05],\n",
       "       [7.22557103e-05],\n",
       "       [2.31075106e-04],\n",
       "       [1.91339147e-04],\n",
       "       [9.62965484e-05],\n",
       "       [2.17045361e-04],\n",
       "       [6.59701565e-05],\n",
       "       [1.78263216e-04],\n",
       "       [1.76991114e-04],\n",
       "       [2.86221297e-04],\n",
       "       [1.72611940e-05],\n",
       "       [1.33907329e-04],\n",
       "       [2.27933800e-04],\n",
       "       [2.23723329e-05],\n",
       "       [2.50217681e-05],\n",
       "       [3.98847621e-05],\n",
       "       [1.80609976e-04],\n",
       "       [4.84823481e-05],\n",
       "       [1.69588768e-04],\n",
       "       [2.74194063e-04],\n",
       "       [2.44058174e-04],\n",
       "       [3.57002259e-04],\n",
       "       [2.72130299e-05],\n",
       "       [2.25407635e-04],\n",
       "       [2.18452928e-04],\n",
       "       [3.50297668e-04],\n",
       "       [5.21450311e-04],\n",
       "       [2.05771392e-04],\n",
       "       [1.83743742e-04],\n",
       "       [1.50750240e-04],\n",
       "       [4.53114132e-04],\n",
       "       [2.51165889e-04],\n",
       "       [9.02192365e-05],\n",
       "       [2.30890610e-04],\n",
       "       [4.88793777e-04],\n",
       "       [9.94559990e-05],\n",
       "       [4.78971782e-04],\n",
       "       [2.25727276e-04],\n",
       "       [1.57066784e-04],\n",
       "       [4.48889153e-04],\n",
       "       [4.35809163e-04],\n",
       "       [2.38203894e-04],\n",
       "       [4.60318634e-04],\n",
       "       [1.22515659e-04],\n",
       "       [3.37962651e-04],\n",
       "       [1.84810458e-04],\n",
       "       [7.80792829e-06],\n",
       "       [5.19490875e-05],\n",
       "       [4.45833381e-04],\n",
       "       [6.42491597e-05],\n",
       "       [7.12293255e-05],\n",
       "       [3.12525332e-04],\n",
       "       [1.85970664e-04],\n",
       "       [1.02436839e-04],\n",
       "       [3.68800375e-04],\n",
       "       [1.19496822e-04],\n",
       "       [3.52975881e-04],\n",
       "       [2.02751849e-04],\n",
       "       [3.44317093e-04],\n",
       "       [2.70156777e-04],\n",
       "       [2.72619337e-04],\n",
       "       [2.54920545e-04],\n",
       "       [2.29445359e-04],\n",
       "       [4.61107663e-04],\n",
       "       [4.39330439e-04],\n",
       "       [3.48973995e-04],\n",
       "       [3.29025117e-04],\n",
       "       [4.14040529e-04],\n",
       "       [1.72135471e-04],\n",
       "       [5.62240748e-05],\n",
       "       [1.97450400e-04],\n",
       "       [2.35370435e-04],\n",
       "       [1.06625648e-04],\n",
       "       [8.68115130e-05],\n",
       "       [2.99986847e-04],\n",
       "       [3.21630270e-04],\n",
       "       [9.79455628e-06],\n",
       "       [5.91175264e-05],\n",
       "       [5.72600889e-04],\n",
       "       [6.61801745e-05],\n",
       "       [2.63068952e-04],\n",
       "       [3.73998010e-04],\n",
       "       [2.77452163e-04],\n",
       "       [3.04662831e-04],\n",
       "       [1.37688880e-04],\n",
       "       [1.59514893e-04],\n",
       "       [3.69226481e-04],\n",
       "       [2.05841884e-04],\n",
       "       [2.03188639e-04],\n",
       "       [1.20715582e-04],\n",
       "       [2.84752403e-04],\n",
       "       [2.35896336e-04],\n",
       "       [1.05316973e-04],\n",
       "       [2.67849482e-04],\n",
       "       [4.24330614e-04],\n",
       "       [2.82990290e-04],\n",
       "       [2.75557452e-04],\n",
       "       [2.05177230e-04],\n",
       "       [1.12611400e-05],\n",
       "       [2.16860076e-04],\n",
       "       [1.58946051e-04],\n",
       "       [3.92170360e-04],\n",
       "       [1.20222745e-04],\n",
       "       [5.38248117e-04],\n",
       "       [1.13220739e-04],\n",
       "       [5.91908796e-05],\n",
       "       [1.25213690e-04],\n",
       "       [1.35041474e-04],\n",
       "       [3.64376309e-04],\n",
       "       [1.83782374e-04],\n",
       "       [2.51444919e-04],\n",
       "       [1.56147536e-04],\n",
       "       [1.42051588e-04],\n",
       "       [2.50329541e-04],\n",
       "       [2.16759190e-04],\n",
       "       [1.78190594e-04],\n",
       "       [3.94956381e-04],\n",
       "       [8.44054953e-05],\n",
       "       [1.19106973e-04],\n",
       "       [9.11283628e-05],\n",
       "       [1.54658615e-04],\n",
       "       [1.21622676e-04],\n",
       "       [2.27979468e-04],\n",
       "       [3.28577904e-04],\n",
       "       [3.31894482e-04],\n",
       "       [4.32090758e-04],\n",
       "       [2.25061300e-04],\n",
       "       [1.17585791e-04],\n",
       "       [1.34721540e-04],\n",
       "       [2.60390714e-04],\n",
       "       [2.76146508e-04],\n",
       "       [1.20446062e-04],\n",
       "       [3.33223755e-04],\n",
       "       [1.38034912e-04],\n",
       "       [2.74663525e-04],\n",
       "       [3.06701479e-04],\n",
       "       [1.45219212e-04],\n",
       "       [8.81060684e-05],\n",
       "       [2.44331889e-04],\n",
       "       [2.86490978e-04],\n",
       "       [1.88304134e-04],\n",
       "       [3.79104611e-05],\n",
       "       [5.19527854e-05],\n",
       "       [3.18969790e-04],\n",
       "       [3.21551712e-04],\n",
       "       [2.76789315e-04],\n",
       "       [1.15255487e-04],\n",
       "       [1.32843659e-04],\n",
       "       [2.69372724e-04],\n",
       "       [1.57594968e-04],\n",
       "       [3.21398576e-04],\n",
       "       [1.63054329e-04],\n",
       "       [4.42439530e-04],\n",
       "       [3.01770789e-04],\n",
       "       [1.54779559e-04],\n",
       "       [3.03666340e-04],\n",
       "       [1.36246503e-05],\n",
       "       [2.54877416e-04],\n",
       "       [1.66491304e-04],\n",
       "       [9.53369166e-05],\n",
       "       [1.90750289e-04],\n",
       "       [1.58972806e-04],\n",
       "       [4.46159897e-04],\n",
       "       [6.10687124e-05],\n",
       "       [3.69095633e-04],\n",
       "       [2.55405756e-04],\n",
       "       [3.63587942e-04],\n",
       "       [1.45424008e-04],\n",
       "       [1.93133157e-04],\n",
       "       [3.68935579e-04],\n",
       "       [2.29639884e-04],\n",
       "       [3.14280374e-05],\n",
       "       [2.53754977e-04],\n",
       "       [3.26594554e-04],\n",
       "       [1.33127555e-04],\n",
       "       [6.71765580e-05],\n",
       "       [2.31610695e-04],\n",
       "       [3.47006246e-04],\n",
       "       [7.97894393e-05],\n",
       "       [2.44392159e-04],\n",
       "       [8.07745597e-05],\n",
       "       [2.29252260e-04],\n",
       "       [2.35960834e-04],\n",
       "       [2.04488932e-04],\n",
       "       [2.13246486e-04],\n",
       "       [5.64251001e-05],\n",
       "       [2.80645443e-04],\n",
       "       [1.50416544e-04],\n",
       "       [9.44028671e-05],\n",
       "       [1.91770938e-04],\n",
       "       [2.89458790e-04],\n",
       "       [5.53315657e-04],\n",
       "       [5.68155880e-05],\n",
       "       [4.49578676e-04],\n",
       "       [1.01162445e-04],\n",
       "       [2.79499860e-04],\n",
       "       [4.24344887e-04],\n",
       "       [1.60097892e-04],\n",
       "       [1.63091948e-04],\n",
       "       [2.48239744e-04],\n",
       "       [6.83616798e-05],\n",
       "       [2.96529331e-04],\n",
       "       [7.76945464e-05],\n",
       "       [1.11948530e-04],\n",
       "       [4.06600845e-04],\n",
       "       [2.70955922e-05],\n",
       "       [3.06195501e-04],\n",
       "       [3.26630937e-04],\n",
       "       [9.87853294e-05],\n",
       "       [3.63449711e-04],\n",
       "       [3.55459991e-04]])"
      ]
     },
     "execution_count": 43,
     "metadata": {},
     "output_type": "execute_result"
    }
   ],
   "source": [
    "gaussian(X, X.mean(axis=0), cov_test)"
   ]
  },
  {
   "cell_type": "code",
   "execution_count": 3,
   "metadata": {},
   "outputs": [
    {
     "ename": "NameError",
     "evalue": "name 'plt' is not defined",
     "output_type": "error",
     "traceback": [
      "\u001b[0;31m---------------------------------------------------------------------------\u001b[0m",
      "\u001b[0;31mNameError\u001b[0m                                 Traceback (most recent call last)",
      "Cell \u001b[0;32mIn[3], line 1\u001b[0m\n\u001b[0;32m----> 1\u001b[0m fig \u001b[38;5;241m=\u001b[39m \u001b[43mplt\u001b[49m\u001b[38;5;241m.\u001b[39mfigure(figsize \u001b[38;5;241m=\u001b[39m (\u001b[38;5;241m6\u001b[39m, \u001b[38;5;241m6\u001b[39m))\n\u001b[1;32m      2\u001b[0m ax \u001b[38;5;241m=\u001b[39m Axes3D(fig, elev \u001b[38;5;241m=\u001b[39m \u001b[38;5;241m-\u001b[39m\u001b[38;5;241m150\u001b[39m, azim \u001b[38;5;241m=\u001b[39m \u001b[38;5;241m130\u001b[39m)\n\u001b[1;32m      3\u001b[0m ax\u001b[38;5;241m.\u001b[39mscatter(X[:,\u001b[38;5;241m0\u001b[39m], X[:,\u001b[38;5;241m1\u001b[39m], X[:,\u001b[38;5;241m2\u001b[39m], marker\u001b[38;5;241m=\u001b[39m\u001b[38;5;124m'\u001b[39m\u001b[38;5;124mo\u001b[39m\u001b[38;5;124m'\u001b[39m)\n",
      "\u001b[0;31mNameError\u001b[0m: name 'plt' is not defined"
     ]
    }
   ],
   "source": [
    "fig = plt.figure(figsize = (6, 6))\n",
    "ax = Axes3D(fig, elev = -150, azim = 130)\n",
    "ax.scatter(X[:,0], X[:,1], X[:,2], marker='o')"
   ]
  },
  {
   "cell_type": "code",
   "execution_count": 29,
   "metadata": {},
   "outputs": [],
   "source": [
    "# initialize clusters with kmeans\n",
    "# initial distributions can start off with assumed equal probability along with unit covariance matrix\n",
    "def initialize_clusters(X, n_clusters):\n",
    "    \"\"\" \n",
    "        Initialize the clusters by storing the information in the data matrix X into the clusters\n",
    "\n",
    "        Parameter:\n",
    "            X: Input feature matrix\n",
    "            n_clusters: Number of clusters we are trying to classify\n",
    "\n",
    "        Return:\n",
    "            cluster: List of clusters. Each cluster center is calculated by the KMeans algorithm above.\n",
    "    \"\"\"\n",
    "    clusters = []\n",
    "    index = np.arange(X.shape[0])\n",
    "    \n",
    "    # We use the KMeans centroids to initialise the GMM\n",
    "    \n",
    "    kmeans = KMeans().train(X)\n",
    "    mu_k = kmeans.centroids\n",
    "    \n",
    "    for i in range(n_clusters):\n",
    "        clusters.append({\n",
    "            'w_k': 1.0 / n_clusters,\n",
    "            'mu_k': mu_k[i],\n",
    "            'cov_k': np.identity(X.shape[1], dtype=np.float64)\n",
    "        })\n",
    "        \n",
    "    return clusters"
   ]
  },
  {
   "cell_type": "code",
   "execution_count": 31,
   "metadata": {},
   "outputs": [],
   "source": [
    "def expectation_step(X, clusters):\n",
    "    \"\"\" \n",
    "        \"E-Step\" for the GM algorithm\n",
    "\n",
    "        Parameter:\n",
    "            X: Input feature matrix\n",
    "            clusters: List of clusters\n",
    "    \"\"\"\n",
    "    \n",
    "    numerators = []\n",
    "    for cluster in clusters:\n",
    "        w_k = cluster['w_k']\n",
    "        mu_k = cluster['mu_k']\n",
    "        cov_k = cluster['cov_k']\n",
    "        \n",
    "        numerator = w_k * gaussian(X, mu_k, cov_k)\n",
    "        numerators.append(numerator)\n",
    "    numerators = np.array(numerators)\n",
    "    \n",
    "    # for each datapoint you want to consider all the situations that can lead to it. considering each cluster. and then normalizing by it. \n",
    "    denominators = numerators.sum(axis=0, keepdims=True)\n",
    "    \n",
    "    # posterior for every datapoint. getting the probability of a cluster for each datapoint\n",
    "    posteriors = numerators / denominators\n",
    "    \n",
    "    return posteriors\n",
    "    # return posteriors.shape"
   ]
  },
  {
   "cell_type": "code",
   "execution_count": 32,
   "metadata": {},
   "outputs": [],
   "source": [
    "def maximization_step(X, clusters, posteriors):\n",
    "    \"\"\" \n",
    "        \"M-Step\" for the GM algorithm\n",
    "\n",
    "        Parameter:\n",
    "            X: Input feature matrix\n",
    "            clusters: List of clusters\n",
    "    \"\"\"\n",
    "    N = float(X.shape[0])\n",
    "  \n",
    "    for j, cluster in enumerate(clusters):\n",
    "        \n",
    "        posterior = posteriors[j]\n",
    "        w_k = np.sum(posterior) / X.shape[0]\n",
    "        mu_k = np.sum(posterior * X, axis=0) / np.sum(posterior)\n",
    "        \n",
    "        diffs = X - mu_k\n",
    "        diffsr = diffs.reshape(diffs.shape[0], -1, 1)\n",
    "        covs = np.einsum('ijk,ilk->ijl', diffsr, diffsr)\n",
    "        cov_k = np.sum(posterior.reshape(-1, 1, 1) * covs, axis=0) / np.sum(posterior)\n",
    "        \n",
    "        cluster['w_k'] = w_k\n",
    "        cluster['mu_k'] = mu_k\n",
    "        cluster['cov_k'] = cov_k"
   ]
  },
  {
   "cell_type": "code",
   "execution_count": 33,
   "metadata": {},
   "outputs": [],
   "source": [
    "def get_likelihood(X, clusters):\n",
    "    likelihood = []\n",
    "    sample_likelihoods = np.log(np.array([cluster['totals'] for cluster in clusters]))\n",
    "    return np.sum(sample_likelihoods), sample_likelihoods"
   ]
  },
  {
   "cell_type": "code",
   "execution_count": 34,
   "metadata": {},
   "outputs": [],
   "source": [
    "clusters = initialize_clusters(X, 3)\n",
    "posteriors = expectation_step(X, clusters)\n",
    "maximization_step(X, clusters, posteriors)"
   ]
  },
  {
   "cell_type": "code",
   "execution_count": 35,
   "metadata": {},
   "outputs": [],
   "source": [
    "def train_gmm(X, n_clusters, n_epochs):\n",
    "    clusters = initialize_clusters(X, n_clusters)\n",
    "    print(clusters)\n",
    "    likelihoods = np.zeros((n_epochs, ))\n",
    "    scores = np.zeros((X.shape[0], n_clusters))\n",
    "\n",
    "    for i in range(n_epochs):\n",
    "        \n",
    "        posteriors = expectation_step(X, clusters)\n",
    "        maximization_step(X, clusters, posteriors)\n",
    "\n",
    "        # likelihood, sample_likelihoods = get_likelihood(X, clusters)\n",
    "        # likelihoods[i] = likelihood\n",
    "        likelihood, sample_likelihoods = None, None\n",
    "        # likelihoods[i] = likelihood\n",
    "        \n",
    "    for i, cluster in enumerate(clusters):\n",
    "        scores[:, i] = np.log(cluster['w_k']).reshape(-1)\n",
    "        \n",
    "    return clusters, likelihoods, scores, sample_likelihoods"
   ]
  },
  {
   "cell_type": "code",
   "execution_count": 39,
   "metadata": {},
   "outputs": [
    {
     "name": "stdout",
     "output_type": "stream",
     "text": [
      "[{'w_k': 0.3333333333333333, 'mu_k': array([-9.14236283,  7.36019548,  2.18520097]), 'cov_k': array([[1., 0., 0.],\n",
      "       [0., 1., 0.],\n",
      "       [0., 0., 1.]])}, {'w_k': 0.3333333333333333, 'mu_k': array([ 1.8610968 , -6.94733839, -6.8452782 ]), 'cov_k': array([[1., 0., 0.],\n",
      "       [0., 1., 0.],\n",
      "       [0., 0., 1.]])}, {'w_k': 0.3333333333333333, 'mu_k': array([-2.56532321,  9.27348125,  4.89537514]), 'cov_k': array([[1., 0., 0.],\n",
      "       [0., 1., 0.],\n",
      "       [0., 0., 1.]])}]\n"
     ]
    }
   ],
   "source": [
    "clusters, likelihoods, scores, sample_likelihoods = train_gmm(X, 3, 1000)"
   ]
  },
  {
   "cell_type": "code",
   "execution_count": 40,
   "metadata": {},
   "outputs": [
    {
     "data": {
      "text/plain": [
       "[{'w_k': 0.32628619057363845,\n",
       "  'mu_k': array([-9.12188805,  7.32642416,  2.19555697]),\n",
       "  'cov_k': array([[ 4.32271676, -0.93428945, -0.05139593],\n",
       "         [-0.93428945,  3.92968013, -0.56383042],\n",
       "         [-0.05139593, -0.56383042,  3.41186883]])},\n",
       " {'w_k': 0.3339999999998166,\n",
       "  'mu_k': array([ 1.8610968 , -6.94733839, -6.8452782 ]),\n",
       "  'cov_k': array([[ 3.26150799,  0.03435451,  0.06688666],\n",
       "         [ 0.03435451,  4.3922024 , -0.43076908],\n",
       "         [ 0.06688666, -0.43076908,  4.30326999]])},\n",
       " {'w_k': 0.3397138094265449,\n",
       "  'mu_k': array([-2.65689002,  9.28500135,  4.85580038]),\n",
       "  'cov_k': array([[ 4.14983314,  0.11413873, -0.04662883],\n",
       "         [ 0.11413873,  3.83310137,  0.4905652 ],\n",
       "         [-0.04662883,  0.4905652 ,  4.33351196]])}]"
      ]
     },
     "execution_count": 40,
     "metadata": {},
     "output_type": "execute_result"
    }
   ],
   "source": [
    "clusters"
   ]
  },
  {
   "cell_type": "code",
   "execution_count": 41,
   "metadata": {},
   "outputs": [
    {
     "name": "stdout",
     "output_type": "stream",
     "text": [
      "Means by sklearn:\n",
      " [[-9.11359686  7.33283087  2.19630664]\n",
      " [ 1.8610968  -6.94733839 -6.8452782 ]\n",
      " [-2.64468499  9.28493405  4.86339568]]\n",
      "Means by our implementation:\n",
      " [[-9.12188805  7.32642416  2.19555697]\n",
      " [ 1.8610968  -6.94733839 -6.8452782 ]\n",
      " [-2.65689002  9.28500135  4.85580038]]\n"
     ]
    }
   ],
   "source": [
    "from sklearn.mixture import GaussianMixture\n",
    "\n",
    "gmm = GaussianMixture(n_components=3, max_iter=50).fit(X)\n",
    "gmm_scores = gmm.score_samples(X)\n",
    "\n",
    "print('Means by sklearn:\\n', gmm.means_)\n",
    "print('Means by our implementation:\\n', np.array([cluster['mu_k'].tolist() for cluster in clusters]))\n",
    "# print('Scores by sklearn:\\n', gmm_scores[0:20])\n",
    "# print('Scores by our implementation:\\n', sample_likelihoods.reshape(-1)[0:20])"
   ]
  },
  {
   "cell_type": "code",
   "execution_count": 93,
   "metadata": {},
   "outputs": [
    {
     "name": "stdout",
     "output_type": "stream",
     "text": [
      "Means by sklearn:\n",
      " [[ 4.39074551  1.20199258  6.3022327 ]\n",
      " [ 8.98839935  9.51954291  1.05759375]\n",
      " [ 5.35315547 -2.23816274 -2.56267013]]\n",
      "Means by our implementation:\n",
      " [[ 5.35182907 -2.2367173  -2.55786065]\n",
      " [ 8.9887496   9.52143291  1.05640879]\n",
      " [ 4.39280888  1.20571767  6.30498601]]\n",
      "Scores by sklearn:\n",
      " [-6.13726675 -7.51911416 -6.89281068 -9.43670026 -8.6028534  -7.3616024\n",
      " -6.53936695 -7.22989094 -6.20257524 -6.23528246 -9.16562507 -8.4825674\n",
      " -9.5302818  -7.32150604 -7.52215321 -7.45975524 -7.10790769 -6.08008756\n",
      " -7.17619947 -8.18014084]\n",
      "Scores by our implementation:\n",
      " [-6.13743663 -7.51459162 -6.89631166 -9.43752363 -8.60238419 -7.36121834\n",
      " -6.53810162 -7.22983957 -6.20161164 -6.23643104 -9.17158307 -8.47802193\n",
      " -9.53262406 -7.32109316 -7.52071805 -7.4624631  -7.1077944  -6.07923737\n",
      " -7.17524634 -8.18078416]\n"
     ]
    }
   ],
   "source": [
    "from sklearn.cluster import KMeans\n",
    "from sklearn.mixture import GaussianMixture\n",
    "\n",
    "gmm = GaussianMixture(n_components=3, max_iter=50).fit(X)\n",
    "gmm_scores = gmm.score_samples(X)\n",
    "\n",
    "print('Means by sklearn:\\n', gmm.means_)\n",
    "print('Means by our implementation:\\n', np.array([cluster['mu_k'].tolist() for cluster in clusters]))\n",
    "print('Scores by sklearn:\\n', gmm_scores[0:20])\n",
    "print('Scores by our implementation:\\n', sample_likelihoods.reshape(-1)[0:20])"
   ]
  }
 ],
 "metadata": {
  "kernelspec": {
   "display_name": "Python 3",
   "language": "python",
   "name": "python3"
  },
  "language_info": {
   "codemirror_mode": {
    "name": "ipython",
    "version": 3
   },
   "file_extension": ".py",
   "mimetype": "text/x-python",
   "name": "python",
   "nbconvert_exporter": "python",
   "pygments_lexer": "ipython3",
   "version": "3.8.16"
  }
 },
 "nbformat": 4,
 "nbformat_minor": 2
}
