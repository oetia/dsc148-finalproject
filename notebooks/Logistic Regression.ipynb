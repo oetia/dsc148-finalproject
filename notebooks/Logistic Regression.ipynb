{
 "cells": [
  {
   "cell_type": "code",
   "execution_count": 3,
   "metadata": {},
   "outputs": [],
   "source": [
    "import numpy as np\n",
    "import matplotlib.pyplot as plt\n",
    "from sklearn import datasets\n",
    "import pandas as pd"
   ]
  },
  {
   "cell_type": "code",
   "execution_count": 4,
   "metadata": {},
   "outputs": [],
   "source": [
    "def min_max_normalize(lst):\n",
    "    \"\"\"\n",
    "        Helper function for movielens dataset, not useful for discrete multi class clasification.\n",
    "\n",
    "        Return:\n",
    "        Normalized list x, in range [0, 1]\n",
    "    \"\"\"\n",
    "    maximum = max(lst)\n",
    "    minimum = min(lst)\n",
    "    toreturn = []\n",
    "    for i in range(len(lst)):\n",
    "        toreturn.append((lst[i]- minimum)/ (maximum - minimum))\n",
    "    return toreturn"
   ]
  },
  {
   "cell_type": "code",
   "execution_count": 5,
   "metadata": {},
   "outputs": [],
   "source": [
    "def z_standardize(X: pd.DataFrame):\n",
    "    means = X.mean(axis=0)\n",
    "    stds = X.std(axis=0)\n",
    "    return (X - means) / stds"
   ]
  },
  {
   "cell_type": "code",
   "execution_count": 6,
   "metadata": {},
   "outputs": [],
   "source": [
    "def sigmoid(x):\n",
    "    return 1 / (1 + np.exp(-x))"
   ]
  },
  {
   "cell_type": "code",
   "execution_count": 137,
   "metadata": {},
   "outputs": [],
   "source": [
    "class Logistic_Regression():\n",
    "    \n",
    "    def __init__(self, alpha: float, iterations: int):\n",
    "        self.alpha = alpha\n",
    "        self.iterations = iterations\n",
    "\n",
    "    def fit(self, X, y):\n",
    "        self.X = X\n",
    "        self.y = y.reshape(-1)\n",
    "        self.theta = np.zeros(X.shape[1])\n",
    "        \n",
    "        return self.gradient_descent()\n",
    "\n",
    "    def cost_function(self):\n",
    "        z = self.X @ self.theta\n",
    "        predict_1 = self.y * -np.log(sigmoid(z))\n",
    "        predict_0 = (1 - self.y) * -np.log(1 - sigmoid(z))\n",
    "        loss = predict_1 + predict_0\n",
    "        return np.mean(loss)\n",
    "\n",
    "    def gradient_descent(self):\n",
    "        losses = []\n",
    "        for i in range(self.iterations):\n",
    "            z = self.X @ self.theta\n",
    "            diff = sigmoid(z) - self.y\n",
    "            gradient = self.X.T @ diff / self.X.shape[0]\n",
    "            self.theta -= self.alpha * gradient\n",
    "            loss = self.cost_function()\n",
    "            losses.append(loss)\n",
    "\n",
    "        return self.theta, losses\n",
    "\n",
    "    def predict(self, X):\n",
    "        return np.where(sigmoid(X @ self.theta) >= 0.5, 1, 0)\n",
    "    \n",
    "    # def __init__(self, alpha: float, iterations: int):\n",
    "    #     self.alpha = alpha\n",
    "    #     self.iterations = iterations\n",
    "    \n",
    "    # def fit(self, X: np.ndarray, y: np.ndarray):\n",
    "    #     self.X = X\n",
    "    #     self.y = y.reshape(-1)\n",
    "    #     self.theta = np.zeros(X.shape[1])\n",
    "    \n",
    "    # def cost_function(self):\n",
    "    #     print(\"sanity check\")\n",
    "    #     z = self.X @ self.theta\n",
    "    #     predict_1 = self.y * -np.log(sigmoid(z))\n",
    "    #     predict_0 = (1 - self.y) * -np.log(1 - sigmoid(z))\n",
    "    #     loss = predict_1 + predict_0\n",
    "    #     return np.mean(loss)\n",
    "    \n",
    "    # def gradient_descent(self):\n",
    "    #     losses = []\n",
    "    #     for iter in range(self.iterations):\n",
    "    #         z = self.X @ self.theta\n",
    "    #         gradient = self.X.T @ (sigmoid(z) - self.y) / self.X.shape[0]\n",
    "    #         self.theta -= self.alpha * gradient\n",
    "    #         loss = self.cost_function(self.X, self.y, self.theta)\n",
    "    #         losses.append(loss)\n",
    "\n",
    "    #     return losses\n",
    "\n",
    "    # def predict(self, X):\n",
    "    #     z = X @ self.theta\n",
    "    #     return np.where(sigmoid(z) >= 0.5, 1, 0)\n",
    "    \n",
    "    \n",
    "    \n",
    "    #     # assumes y is normalized properly to 0 1\n",
    "    #     # labels = np.unique(y_train)\n",
    "    #     # self.y = np.vectorize(lambda x: 0 if x == min(labels) else 1)(y_train)\n",
    "    #     # print(pd.Series(y_train).value_counts())\n",
    "    #     # print(pd.Series(self.y).value_counts())\n",
    "        \n",
    "    #     # np.random.seed(42)\n",
    "    #     # self.theta = np.random.uniform(low=-1, high=1, size=(X_train.shape[1], 1)) # assumes x is augmented\n",
    "    #     # self.theta = np.random.uniform(low=-1, high=1, size=(X_train.shape[1] + 1, 1)) # beta included in theta for vectorization\n",
    "        \n",
    "    #     # return self\n",
    "\n",
    "    # def gradient_descent(self, alpha, num_pass, early_stop=0, standardized = True):\n",
    "        \n",
    "    #     # if standardized:\n",
    "    #     #     self.X = z_standardize(self.X)\n",
    "    #     #     print(self.X.mean(axis=0))\n",
    "    #     #     print(self.X.std(axis=0))\n",
    "            \n",
    "    #     # self.X = np.hstack((np.ones((self.X.shape[0], 1)), self.X))\n",
    "    #     # print(self.theta.shape, self.X.shape)\n",
    "        \n",
    "    #     self.losses = []\n",
    "        \n",
    "    #     for i in range(num_pass):\n",
    "    #         matmul = self.X @ self.theta\n",
    "    #         preds = 1 / (1 + np.exp(-matmul))\n",
    "    #         branch1 = self.y * -np.log(preds)\n",
    "    #         branch2 = (1 - self.y) * -np.log(1 - preds)\n",
    "    #         losses = branch1 + branch2\n",
    "    #         risk = np.mean(losses)\n",
    "    #         # is the second neg necessary? should be? \n",
    "    #         self.losses.append(risk)\n",
    "            \n",
    "            \n",
    "    #         # manual backward pass\n",
    "    #         # g_risk = 1\n",
    "    #         # g_losses = g_risk * (1 / self.X.shape[0]) * np.ones_like(losses)\n",
    "    #         # g_branch1 = g_losses * 1\n",
    "    #         # g_branch2 = g_losses * 1\n",
    "    #         # g_preds = (\n",
    "    #         #     g_branch1 * (1/preds) * -1 * self.y + \n",
    "    #         #     g_branch2 * -1 * (1/(1-preds)) * -1 * (1-self.y)\n",
    "    #         # )\n",
    "    #         # g_matmul = g_preds * -1 * np.exp(-matmul) * 1 * -(1 + np.exp(-matmul)) ** -2\n",
    "    #         # g_theta = self.X.T @ g_matmul\n",
    "            \n",
    "    #         # fused operations\n",
    "    #         g_theta = (1 / self.X.shape[0]) * self.X.T @ (preds - self.y)\n",
    "            \n",
    "    #         new_theta = self.theta - alpha * g_theta\n",
    "    #         # new_preds = 1 / (1 + np.exp(-self.X @ new_theta))\n",
    "    #         # new_losses = self.y * -np.log(new_preds) + (1 - self.y) * -np.log(1 - new_preds)\n",
    "    #         # new_risk = (new_losses).mean()\n",
    "            \n",
    "    #         # if (abs(risk - new_risk) < early_stop) | (abs(abs(risk - new_risk) / risk) < early_stop):\n",
    "    #         #     break\n",
    "            \n",
    "    #         self.theta = new_theta\n",
    "            \n",
    "    #         if i % 100 == 0:\n",
    "    #             print(f'{i} Loss: {risk}')\n",
    "            \n",
    "    #     return self\n",
    "    \n",
    "    # def predict(self, X):\n",
    "    #     preds = 1 / (1 + np.exp(-X @ self.theta))\n",
    "    #     return np.where(preds > 0.5, 1, 0)"
   ]
  },
  {
   "cell_type": "code",
   "execution_count": 9,
   "metadata": {},
   "outputs": [],
   "source": [
    "url_Wine = 'https://archive.ics.uci.edu/ml/machine-learning-databases/wine-quality/winequality-red.csv'\n",
    "#names = ['f_acid', 'v_acid', 'c_acid', 'sugar', 'chlorides', 'f_SO2', 't_SO2', 'density', 'ph', 'sulphates', 'alcohol', 'quality']\n",
    "wine = pd.read_csv(url_Wine, delimiter=';')"
   ]
  },
  {
   "cell_type": "code",
   "execution_count": 10,
   "metadata": {},
   "outputs": [
    {
     "data": {
      "text/html": [
       "<div>\n",
       "<style scoped>\n",
       "    .dataframe tbody tr th:only-of-type {\n",
       "        vertical-align: middle;\n",
       "    }\n",
       "\n",
       "    .dataframe tbody tr th {\n",
       "        vertical-align: top;\n",
       "    }\n",
       "\n",
       "    .dataframe thead th {\n",
       "        text-align: right;\n",
       "    }\n",
       "</style>\n",
       "<table border=\"1\" class=\"dataframe\">\n",
       "  <thead>\n",
       "    <tr style=\"text-align: right;\">\n",
       "      <th></th>\n",
       "      <th>fixed acidity</th>\n",
       "      <th>volatile acidity</th>\n",
       "      <th>citric acid</th>\n",
       "      <th>residual sugar</th>\n",
       "      <th>chlorides</th>\n",
       "      <th>free sulfur dioxide</th>\n",
       "      <th>total sulfur dioxide</th>\n",
       "      <th>density</th>\n",
       "      <th>pH</th>\n",
       "      <th>sulphates</th>\n",
       "      <th>alcohol</th>\n",
       "      <th>quality</th>\n",
       "    </tr>\n",
       "  </thead>\n",
       "  <tbody>\n",
       "    <tr>\n",
       "      <th>0</th>\n",
       "      <td>7.4</td>\n",
       "      <td>0.70</td>\n",
       "      <td>0.00</td>\n",
       "      <td>1.9</td>\n",
       "      <td>0.076</td>\n",
       "      <td>11.0</td>\n",
       "      <td>34.0</td>\n",
       "      <td>0.99780</td>\n",
       "      <td>3.51</td>\n",
       "      <td>0.56</td>\n",
       "      <td>9.4</td>\n",
       "      <td>5</td>\n",
       "    </tr>\n",
       "    <tr>\n",
       "      <th>1</th>\n",
       "      <td>7.8</td>\n",
       "      <td>0.88</td>\n",
       "      <td>0.00</td>\n",
       "      <td>2.6</td>\n",
       "      <td>0.098</td>\n",
       "      <td>25.0</td>\n",
       "      <td>67.0</td>\n",
       "      <td>0.99680</td>\n",
       "      <td>3.20</td>\n",
       "      <td>0.68</td>\n",
       "      <td>9.8</td>\n",
       "      <td>5</td>\n",
       "    </tr>\n",
       "    <tr>\n",
       "      <th>2</th>\n",
       "      <td>7.8</td>\n",
       "      <td>0.76</td>\n",
       "      <td>0.04</td>\n",
       "      <td>2.3</td>\n",
       "      <td>0.092</td>\n",
       "      <td>15.0</td>\n",
       "      <td>54.0</td>\n",
       "      <td>0.99700</td>\n",
       "      <td>3.26</td>\n",
       "      <td>0.65</td>\n",
       "      <td>9.8</td>\n",
       "      <td>5</td>\n",
       "    </tr>\n",
       "    <tr>\n",
       "      <th>4</th>\n",
       "      <td>7.4</td>\n",
       "      <td>0.70</td>\n",
       "      <td>0.00</td>\n",
       "      <td>1.9</td>\n",
       "      <td>0.076</td>\n",
       "      <td>11.0</td>\n",
       "      <td>34.0</td>\n",
       "      <td>0.99780</td>\n",
       "      <td>3.51</td>\n",
       "      <td>0.56</td>\n",
       "      <td>9.4</td>\n",
       "      <td>5</td>\n",
       "    </tr>\n",
       "    <tr>\n",
       "      <th>5</th>\n",
       "      <td>7.4</td>\n",
       "      <td>0.66</td>\n",
       "      <td>0.00</td>\n",
       "      <td>1.8</td>\n",
       "      <td>0.075</td>\n",
       "      <td>13.0</td>\n",
       "      <td>40.0</td>\n",
       "      <td>0.99780</td>\n",
       "      <td>3.51</td>\n",
       "      <td>0.56</td>\n",
       "      <td>9.4</td>\n",
       "      <td>5</td>\n",
       "    </tr>\n",
       "    <tr>\n",
       "      <th>...</th>\n",
       "      <td>...</td>\n",
       "      <td>...</td>\n",
       "      <td>...</td>\n",
       "      <td>...</td>\n",
       "      <td>...</td>\n",
       "      <td>...</td>\n",
       "      <td>...</td>\n",
       "      <td>...</td>\n",
       "      <td>...</td>\n",
       "      <td>...</td>\n",
       "      <td>...</td>\n",
       "      <td>...</td>\n",
       "    </tr>\n",
       "    <tr>\n",
       "      <th>1592</th>\n",
       "      <td>6.3</td>\n",
       "      <td>0.51</td>\n",
       "      <td>0.13</td>\n",
       "      <td>2.3</td>\n",
       "      <td>0.076</td>\n",
       "      <td>29.0</td>\n",
       "      <td>40.0</td>\n",
       "      <td>0.99574</td>\n",
       "      <td>3.42</td>\n",
       "      <td>0.75</td>\n",
       "      <td>11.0</td>\n",
       "      <td>6</td>\n",
       "    </tr>\n",
       "    <tr>\n",
       "      <th>1593</th>\n",
       "      <td>6.8</td>\n",
       "      <td>0.62</td>\n",
       "      <td>0.08</td>\n",
       "      <td>1.9</td>\n",
       "      <td>0.068</td>\n",
       "      <td>28.0</td>\n",
       "      <td>38.0</td>\n",
       "      <td>0.99651</td>\n",
       "      <td>3.42</td>\n",
       "      <td>0.82</td>\n",
       "      <td>9.5</td>\n",
       "      <td>6</td>\n",
       "    </tr>\n",
       "    <tr>\n",
       "      <th>1595</th>\n",
       "      <td>5.9</td>\n",
       "      <td>0.55</td>\n",
       "      <td>0.10</td>\n",
       "      <td>2.2</td>\n",
       "      <td>0.062</td>\n",
       "      <td>39.0</td>\n",
       "      <td>51.0</td>\n",
       "      <td>0.99512</td>\n",
       "      <td>3.52</td>\n",
       "      <td>0.76</td>\n",
       "      <td>11.2</td>\n",
       "      <td>6</td>\n",
       "    </tr>\n",
       "    <tr>\n",
       "      <th>1596</th>\n",
       "      <td>6.3</td>\n",
       "      <td>0.51</td>\n",
       "      <td>0.13</td>\n",
       "      <td>2.3</td>\n",
       "      <td>0.076</td>\n",
       "      <td>29.0</td>\n",
       "      <td>40.0</td>\n",
       "      <td>0.99574</td>\n",
       "      <td>3.42</td>\n",
       "      <td>0.75</td>\n",
       "      <td>11.0</td>\n",
       "      <td>6</td>\n",
       "    </tr>\n",
       "    <tr>\n",
       "      <th>1598</th>\n",
       "      <td>6.0</td>\n",
       "      <td>0.31</td>\n",
       "      <td>0.47</td>\n",
       "      <td>3.6</td>\n",
       "      <td>0.067</td>\n",
       "      <td>18.0</td>\n",
       "      <td>42.0</td>\n",
       "      <td>0.99549</td>\n",
       "      <td>3.39</td>\n",
       "      <td>0.66</td>\n",
       "      <td>11.0</td>\n",
       "      <td>6</td>\n",
       "    </tr>\n",
       "  </tbody>\n",
       "</table>\n",
       "<p>1319 rows × 12 columns</p>\n",
       "</div>"
      ],
      "text/plain": [
       "      fixed acidity  volatile acidity  citric acid  residual sugar  chlorides  \\\n",
       "0               7.4              0.70         0.00             1.9      0.076   \n",
       "1               7.8              0.88         0.00             2.6      0.098   \n",
       "2               7.8              0.76         0.04             2.3      0.092   \n",
       "4               7.4              0.70         0.00             1.9      0.076   \n",
       "5               7.4              0.66         0.00             1.8      0.075   \n",
       "...             ...               ...          ...             ...        ...   \n",
       "1592            6.3              0.51         0.13             2.3      0.076   \n",
       "1593            6.8              0.62         0.08             1.9      0.068   \n",
       "1595            5.9              0.55         0.10             2.2      0.062   \n",
       "1596            6.3              0.51         0.13             2.3      0.076   \n",
       "1598            6.0              0.31         0.47             3.6      0.067   \n",
       "\n",
       "      free sulfur dioxide  total sulfur dioxide  density    pH  sulphates  \\\n",
       "0                    11.0                  34.0  0.99780  3.51       0.56   \n",
       "1                    25.0                  67.0  0.99680  3.20       0.68   \n",
       "2                    15.0                  54.0  0.99700  3.26       0.65   \n",
       "4                    11.0                  34.0  0.99780  3.51       0.56   \n",
       "5                    13.0                  40.0  0.99780  3.51       0.56   \n",
       "...                   ...                   ...      ...   ...        ...   \n",
       "1592                 29.0                  40.0  0.99574  3.42       0.75   \n",
       "1593                 28.0                  38.0  0.99651  3.42       0.82   \n",
       "1595                 39.0                  51.0  0.99512  3.52       0.76   \n",
       "1596                 29.0                  40.0  0.99574  3.42       0.75   \n",
       "1598                 18.0                  42.0  0.99549  3.39       0.66   \n",
       "\n",
       "      alcohol  quality  \n",
       "0         9.4        5  \n",
       "1         9.8        5  \n",
       "2         9.8        5  \n",
       "4         9.4        5  \n",
       "5         9.4        5  \n",
       "...       ...      ...  \n",
       "1592     11.0        6  \n",
       "1593      9.5        6  \n",
       "1595     11.2        6  \n",
       "1596     11.0        6  \n",
       "1598     11.0        6  \n",
       "\n",
       "[1319 rows x 12 columns]"
      ]
     },
     "execution_count": 10,
     "metadata": {},
     "output_type": "execute_result"
    }
   ],
   "source": [
    "wine5 = wine.loc[wine.quality == 5]\n",
    "wine6 = wine.loc[wine.quality == 6]\n",
    "wineall = pd.concat([wine5,wine6])\n",
    "wineall"
   ]
  },
  {
   "cell_type": "code",
   "execution_count": 11,
   "metadata": {},
   "outputs": [],
   "source": [
    "X = np.array(wineall.iloc[:,:10])\n",
    "Y = np.array(wineall.quality)"
   ]
  },
  {
   "cell_type": "code",
   "execution_count": 12,
   "metadata": {},
   "outputs": [
    {
     "data": {
      "text/plain": [
       "0.6800606520090978"
      ]
     },
     "execution_count": 12,
     "metadata": {},
     "output_type": "execute_result"
    }
   ],
   "source": [
    "# import sklearn logistic regression\n",
    "from sklearn.linear_model import LogisticRegression as SKLogisticRegression\n",
    "\n",
    "sklogistic = SKLogisticRegression(max_iter=1000, random_state=42).fit(X,Y)\n",
    "sklogistic.score(X, Y)"
   ]
  },
  {
   "cell_type": "code",
   "execution_count": 21,
   "metadata": {},
   "outputs": [],
   "source": [
    "X_std = z_standardize(pd.DataFrame(X))\n",
    "X_aug = np.hstack((np.ones((X.shape[0], 1)), X_std))\n",
    "Y_norm = np.where(Y == 5, 0, 1)\n"
   ]
  },
  {
   "cell_type": "code",
   "execution_count": 43,
   "metadata": {},
   "outputs": [
    {
     "data": {
      "text/plain": [
       "0.7050796057619408"
      ]
     },
     "execution_count": 43,
     "metadata": {},
     "output_type": "execute_result"
    }
   ],
   "source": [
    "# import sklearn logistic regression\n",
    "from sklearn.linear_model import LogisticRegression as SKLogisticRegression\n",
    "\n",
    "sklogistic = SKLogisticRegression(max_iter=1000, random_state=42).fit(X_aug,Y_norm)\n",
    "sklogistic.score(X_aug, Y_norm)"
   ]
  },
  {
   "cell_type": "code",
   "execution_count": 44,
   "metadata": {},
   "outputs": [
    {
     "name": "stdout",
     "output_type": "stream",
     "text": [
      "0 Loss: 1.1131830902202695\n",
      "100 Loss: 0.9900937749736771\n",
      "200 Loss: 0.8950055671102505\n",
      "300 Loss: 0.823096049576082\n",
      "400 Loss: 0.7692137703235586\n",
      "500 Loss: 0.7288262097109196\n",
      "600 Loss: 0.6983836406330477\n",
      "700 Loss: 0.6752363957552213\n",
      "800 Loss: 0.6574395696952962\n",
      "900 Loss: 0.6435940749368564\n",
      "1000 Loss: 0.6327071894583094\n",
      "1100 Loss: 0.6240687016781874\n",
      "1200 Loss: 0.6171594299158337\n",
      "1300 Loss: 0.6115922417625671\n",
      "1400 Loss: 0.6070746359904644\n",
      "1500 Loss: 0.6033835980043645\n",
      "1600 Loss: 0.6003477872386392\n",
      "1700 Loss: 0.5978346465644843\n",
      "1800 Loss: 0.59574100495811\n",
      "1900 Loss: 0.5939861550556892\n",
      "2000 Loss: 0.5925066723993687\n",
      "2100 Loss: 0.5912524790879504\n",
      "2200 Loss: 0.5901838255081273\n",
      "2300 Loss: 0.5892689699997982\n",
      "2400 Loss: 0.5884823973977834\n",
      "2500 Loss: 0.5878034542635171\n",
      "2600 Loss: 0.5872153043544931\n",
      "2700 Loss: 0.5867041282775685\n",
      "2800 Loss: 0.5862585081908528\n",
      "2900 Loss: 0.58586895230693\n",
      "3000 Loss: 0.585527525026382\n",
      "3100 Loss: 0.5852275571141096\n",
      "3200 Loss: 0.5849634168347699\n",
      "3300 Loss: 0.5847303278166105\n",
      "3400 Loss: 0.5845242230017939\n",
      "3500 Loss: 0.5843416266850537\n",
      "3600 Loss: 0.58417955859031\n",
      "3700 Loss: 0.5840354553741941\n",
      "3800 Loss: 0.5839071060144855\n",
      "3900 Loss: 0.5837925983406339\n",
      "4000 Loss: 0.5836902745653977\n",
      "4100 Loss: 0.5835986941334562\n",
      "4200 Loss: 0.5835166025524026\n",
      "4300 Loss: 0.5834429051411267\n",
      "4400 Loss: 0.5833766448401752\n",
      "4500 Loss: 0.5833169833928217\n",
      "4600 Loss: 0.5832631853350566\n",
      "4700 Loss: 0.5832146043355326\n",
      "4800 Loss: 0.5831706715086772\n",
      "4900 Loss: 0.5831308853902497\n",
      "5000 Loss: 0.5830948033180188\n",
      "5100 Loss: 0.5830620340036263\n",
      "5200 Loss: 0.5830322311171254\n",
      "5300 Loss: 0.5830050877347255\n",
      "5400 Loss: 0.582980331524193\n",
      "5500 Loss: 0.5829577205621296\n",
      "5600 Loss: 0.5829370396937432\n",
      "5700 Loss: 0.5829180973593879\n",
      "5800 Loss: 0.5829007228235435\n",
      "5900 Loss: 0.5828847637514603\n",
      "6000 Loss: 0.582870084086713\n",
      "6100 Loss: 0.5828565621896729\n",
      "6200 Loss: 0.5828440892026057\n",
      "6300 Loss: 0.5828325676119444\n",
      "6400 Loss: 0.5828219099823808\n",
      "6500 Loss: 0.5828120378409118\n",
      "6600 Loss: 0.5828028806919501\n",
      "6700 Loss: 0.5827943751471486\n",
      "6800 Loss: 0.5827864641557656\n",
      "6900 Loss: 0.5827790963232599\n",
      "7000 Loss: 0.5827722253074111\n",
      "7100 Loss: 0.582765809282642\n",
      "7200 Loss: 0.5827598104644045\n",
      "7300 Loss: 0.5827541946865282\n",
      "7400 Loss: 0.5827489310253114\n",
      "7500 Loss: 0.5827439914649143\n",
      "7600 Loss: 0.5827393505992775\n",
      "7700 Loss: 0.582734985366376\n",
      "7800 Loss: 0.5827308748111218\n",
      "7900 Loss: 0.5827269998736747\n",
      "8000 Loss: 0.5827233432003031\n",
      "8100 Loss: 0.5827198889742754\n",
      "8200 Loss: 0.5827166227645604\n",
      "8300 Loss: 0.5827135313903679\n",
      "8400 Loss: 0.5827106027997957\n",
      "8500 Loss: 0.5827078259610414\n",
      "8600 Loss: 0.5827051907648177\n",
      "8700 Loss: 0.5827026879367626\n",
      "8800 Loss: 0.5827003089587717\n",
      "8900 Loss: 0.5826980459983003\n",
      "9000 Loss: 0.5826958918447888\n",
      "9100 Loss: 0.5826938398524593\n",
      "9200 Loss: 0.5826918838888127\n",
      "9300 Loss: 0.5826900182882299\n",
      "9400 Loss: 0.5826882378101467\n",
      "9500 Loss: 0.5826865376013246\n",
      "9600 Loss: 0.5826849131618013\n",
      "9700 Loss: 0.582683360314135\n",
      "9800 Loss: 0.5826818751756131\n",
      "9900 Loss: 0.5826804541331175\n"
     ]
    },
    {
     "data": {
      "text/plain": [
       "<__main__.Logistic_Regression at 0x1279b1e90>"
      ]
     },
     "execution_count": 44,
     "metadata": {},
     "output_type": "execute_result"
    }
   ],
   "source": [
    "\n",
    "regressor = Logistic_Regression().fit(X_aug, Y_norm)\n",
    "regressor.gradient_descent(0.01, 10000, 0.0001, True)"
   ]
  },
  {
   "cell_type": "code",
   "execution_count": 19,
   "metadata": {},
   "outputs": [
    {
     "data": {
      "text/plain": [
       "[<matplotlib.lines.Line2D at 0x12770d950>]"
      ]
     },
     "execution_count": 19,
     "metadata": {},
     "output_type": "execute_result"
    },
    {
     "data": {
      "image/png": "[encoded data removed]",
      "text/plain": [
       "<Figure size 640x480 with 1 Axes>"
      ]
     },
     "metadata": {},
     "output_type": "display_data"
    }
   ],
   "source": [
    "plt.plot(regressor.losses)"
   ]
  },
  {
   "cell_type": "code",
   "execution_count": 58,
   "metadata": {},
   "outputs": [
    {
     "data": {
      "text/plain": [
       "((1319, 11), (11, 1))"
      ]
     },
     "execution_count": 58,
     "metadata": {},
     "output_type": "execute_result"
    }
   ],
   "source": [
    "X_aug.shape, regressor.theta.shape"
   ]
  },
  {
   "cell_type": "code",
   "execution_count": 20,
   "metadata": {},
   "outputs": [
    {
     "data": {
      "text/plain": [
       "0.5016189005271414"
      ]
     },
     "execution_count": 20,
     "metadata": {},
     "output_type": "execute_result"
    }
   ],
   "source": [
    "(regressor.predict(X_aug) == Y_norm).mean()"
   ]
  },
  {
   "cell_type": "code",
   "execution_count": 384,
   "metadata": {},
   "outputs": [],
   "source": [
    "logit = Logistic_Regression()\n",
    "logit.fit(X, Y)"
   ]
  },
  {
   "cell_type": "code",
   "execution_count": 385,
   "metadata": {},
   "outputs": [],
   "source": [
    "g = logit.gradient_descent_logistic(0.001, 1000)"
   ]
  },
  {
   "cell_type": "code",
   "execution_count": 386,
   "metadata": {},
   "outputs": [],
   "source": [
    "w, b = g"
   ]
  },
  {
   "cell_type": "code",
   "execution_count": 387,
   "metadata": {},
   "outputs": [
    {
     "data": {
      "text/plain": [
       "(array([ 0.88920356, -0.39976005, -0.15986489,  0.33723283, -0.16076005,\n",
       "         0.22245154, -0.61885986, -0.86668798,  0.43063254,  0.54169727]),\n",
       " -0.07735992361457411)"
      ]
     },
     "execution_count": 387,
     "metadata": {},
     "output_type": "execute_result"
    }
   ],
   "source": [
    "g"
   ]
  },
  {
   "cell_type": "code",
   "execution_count": 388,
   "metadata": {},
   "outputs": [],
   "source": [
    "hat = np.array(w.dot(z_standardize(X).T) + b)"
   ]
  },
  {
   "cell_type": "code",
   "execution_count": 389,
   "metadata": {},
   "outputs": [
    {
     "data": {
      "text/plain": [
       "array([0.31150064, 0.22190456, 0.26046789, ..., 0.7378107 , 0.66316566,\n",
       "       0.62770556])"
      ]
     },
     "execution_count": 389,
     "metadata": {},
     "output_type": "execute_result"
    }
   ],
   "source": [
    "hat1 = sigmoid(hat)\n",
    "hat1"
   ]
  },
  {
   "cell_type": "code",
   "execution_count": 391,
   "metadata": {},
   "outputs": [
    {
     "data": {
      "text/plain": [
       "928"
      ]
     },
     "execution_count": 391,
     "metadata": {},
     "output_type": "execute_result"
    }
   ],
   "source": [
    "count = 0\n",
    "for i in range(len(hat)):\n",
    "    if hat1[i] < 0.5:\n",
    "        if Y[i] == -1:\n",
    "            count += 1\n",
    "    else:\n",
    "        if Y[i] == 1:\n",
    "            count += 1\n",
    "count"
   ]
  },
  {
   "cell_type": "code",
   "execution_count": 392,
   "metadata": {},
   "outputs": [
    {
     "data": {
      "text/plain": [
       "0.7035633055344959"
      ]
     },
     "execution_count": 392,
     "metadata": {},
     "output_type": "execute_result"
    }
   ],
   "source": [
    "928/1319"
   ]
  },
  {
   "cell_type": "code",
   "execution_count": 24,
   "metadata": {},
   "outputs": [],
   "source": [
    "import numpy as np\n",
    "import matplotlib.pyplot as plt"
   ]
  },
  {
   "cell_type": "code",
   "execution_count": 27,
   "metadata": {},
   "outputs": [
    {
     "data": {
      "text/plain": [
       "<matplotlib.collections.PathCollection at 0x12781d950>"
      ]
     },
     "execution_count": 27,
     "metadata": {},
     "output_type": "execute_result"
    },
    {
     "data": {
      "image/png": "[encoded data removed]",
      "text/plain": [
       "<Figure size 640x480 with 1 Axes>"
      ]
     },
     "metadata": {},
     "output_type": "display_data"
    }
   ],
   "source": [
    "np.random.seed(0)  # For reproducibility\n",
    "\n",
    "# Generate synthetic data\n",
    "X = np.random.randn(100, 2)\n",
    "y = (X[:, 0] + X[:, 1] > 0).astype(np.float32)  # Simple decision boundary\n",
    "\n",
    "plt.scatter(X[y == 0, 0], X[y == 0, 1], label='Class 0')\n",
    "plt.scatter(X[y == 1, 0], X[y == 1, 1], label='Class 1')"
   ]
  },
  {
   "cell_type": "code",
   "execution_count": 46,
   "metadata": {},
   "outputs": [
    {
     "data": {
      "text/plain": [
       "((100, 2), (100,))"
      ]
     },
     "execution_count": 46,
     "metadata": {},
     "output_type": "execute_result"
    }
   ],
   "source": [
    "X.shape, y.shape"
   ]
  },
  {
   "cell_type": "code",
   "execution_count": 79,
   "metadata": {},
   "outputs": [
    {
     "name": "stdout",
     "output_type": "stream",
     "text": [
      "0.7081122062168309\n",
      "Trained weights: [-0.08067466  0.77509493 -0.38166718 -0.11422489  0.31535888 -0.18238054\n",
      "  0.24257237 -0.65215954 -0.79901522  0.37698587  0.53774887]\n"
     ]
    }
   ],
   "source": [
    "def sigmoid(z):\n",
    "    return 1 / (1 + np.exp(-z))\n",
    "\n",
    "def cost_function(X, y, weights):\n",
    "    z = np.dot(X, weights)\n",
    "    predict_1 = y * -np.log(sigmoid(z))\n",
    "    predict_0 = (1 - y) * -np.log(1 - sigmoid(z))\n",
    "    loss = predict_1 + predict_0\n",
    "    return np.mean(loss)\n",
    "\n",
    "def gradient_descent(X, y, weights, learning_rate, iterations):\n",
    "    cost_history = []\n",
    "\n",
    "    for i in range(iterations):\n",
    "        z = np.dot(X, weights)\n",
    "        gradient = np.dot(X.T, (sigmoid(z) - y)) / len(X)\n",
    "        weights -= learning_rate * gradient\n",
    "        cost = cost_function(X, y, weights)\n",
    "        cost_history.append(cost)\n",
    "\n",
    "    return weights, cost_history\n",
    "\n",
    "def predict(X, weights):\n",
    "    z = np.dot(X, weights)\n",
    "    return [1 if i > 0.5 else 0 for i in sigmoid(z)]\n",
    "\n",
    "\n",
    "weights = np.zeros(X_aug.shape[1])\n",
    "learning_rate = 0.01\n",
    "iterations = 10000\n",
    "\n",
    "weights, cost_history = gradient_descent(X_aug, Y_norm.reshape(-1), weights, learning_rate, iterations)\n",
    "predictions = predict(X_aug, weights)\n",
    "\n",
    "print((predictions == Y_norm).mean())\n",
    "print(\"Trained weights:\", weights)"
   ]
  },
  {
   "cell_type": "code",
   "execution_count": 138,
   "metadata": {},
   "outputs": [
    {
     "name": "stdout",
     "output_type": "stream",
     "text": [
      "0.7081122062168309\n"
     ]
    }
   ],
   "source": [
    "# weights = np.zeros(X_aug.shape[1])\n",
    "lr = Logistic_Regression(0.01, 10000)\n",
    "weights, cost_history = lr.fit(X_aug, Y_norm.reshape(-1))\n",
    "# weights, cost_history = lr.gradient_descent(X_aug, Y_norm.reshape(-1), weights)\n",
    "predictions = lr.predict(X_aug)\n",
    "\n",
    "print((predictions == Y_norm).mean())"
   ]
  },
  {
   "cell_type": "code",
   "execution_count": null,
   "metadata": {},
   "outputs": [],
   "source": []
  }
 ],
 "metadata": {
  "kernelspec": {
   "display_name": "Python 3",
   "language": "python",
   "name": "python3"
  },
  "language_info": {
   "codemirror_mode": {
    "name": "ipython",
    "version": 3
   },
   "file_extension": ".py",
   "mimetype": "text/x-python",
   "name": "python",
   "nbconvert_exporter": "python",
   "pygments_lexer": "ipython3",
   "version": "3.11.2"
  }
 },
 "nbformat": 4,
 "nbformat_minor": 2
}
