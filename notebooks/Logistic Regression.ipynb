{
 "cells": [
  {
   "cell_type": "code",
   "execution_count": 1,
   "metadata": {},
   "outputs": [],
   "source": [
    "import numpy as np\n",
    "import matplotlib.pyplot as plt\n",
    "from sklearn import datasets\n",
    "import pandas as pd"
   ]
  },
  {
   "cell_type": "code",
   "execution_count": 2,
   "metadata": {},
   "outputs": [],
   "source": [
    "def min_max_normalize(lst):\n",
    "    \"\"\"\n",
    "        Helper function for movielens dataset, not useful for discrete multi class clasification.\n",
    "\n",
    "        Return:\n",
    "        Normalized list x, in range [0, 1]\n",
    "    \"\"\"\n",
    "    maximum = max(lst)\n",
    "    minimum = min(lst)\n",
    "    toreturn = []\n",
    "    for i in range(len(lst)):\n",
    "        toreturn.append((lst[i]- minimum)/ (maximum - minimum))\n",
    "    return toreturn"
   ]
  },
  {
   "cell_type": "code",
   "execution_count": 3,
   "metadata": {},
   "outputs": [],
   "source": [
    "def z_standardize(X: pd.DataFrame):\n",
    "    means = X.mean(axis=0)\n",
    "    stds = X.std(axis=0)\n",
    "    return (X - means) / stds"
   ]
  },
  {
   "cell_type": "code",
   "execution_count": 4,
   "metadata": {},
   "outputs": [],
   "source": [
    "def sigmoid(x):\n",
    "    return 1 / (1 + np.exp(-x))"
   ]
  },
  {
   "cell_type": "code",
   "execution_count": 23,
   "metadata": {},
   "outputs": [],
   "source": [
    "class Logistic_Regression():\n",
    "    \n",
    "    def __init__(self, alpha: float, iterations: int, early_stop: float = 0.0001):\n",
    "        self.alpha = alpha\n",
    "        self.iterations = iterations\n",
    "        self.early_stop = early_stop\n",
    "\n",
    "    def fit(self, X, y):\n",
    "        self.X = X\n",
    "        self.y = y.reshape(-1)\n",
    "        self.theta = np.zeros(X.shape[1])\n",
    "        \n",
    "        return self.gradient_descent()\n",
    "\n",
    "    def cost_function(self):\n",
    "        z = self.X @ self.theta\n",
    "        predict_1 = self.y * -np.log(sigmoid(z))\n",
    "        predict_0 = (1 - self.y) * -np.log(1 - sigmoid(z))\n",
    "        loss = predict_1 + predict_0\n",
    "        return np.mean(loss)\n",
    "\n",
    "    def gradient_descent(self):\n",
    "        losses = []\n",
    "        for i in range(self.iterations):\n",
    "            z = self.X @ self.theta\n",
    "            diff = sigmoid(z) - self.y\n",
    "            gradient = self.X.T @ diff / self.X.shape[0]\n",
    "            self.theta -= self.alpha * gradient\n",
    "            loss = self.cost_function()\n",
    "            losses.append(loss)\n",
    "            \n",
    "            temp_theta = self.theta - self.alpha * gradient\n",
    "            pre_error = loss\n",
    "            temp_sigmoid = sigmoid(self.X @ temp_theta)\n",
    "            temp_error = (-self.y * np.log(temp_sigmoid) - (1 - self.y) * np.log(1 - temp_sigmoid)).mean()\n",
    "            \n",
    "            if (abs(pre_error - temp_error) < self.early_stop) | (abs(abs(pre_error - temp_error) / pre_error) < self.early_stop):\n",
    "                # return temp_theta, temp_b\n",
    "                print(f\"early stop @ {i}\")\n",
    "                return temp_theta, losses\n",
    "            \n",
    "\n",
    "        return self.theta, losses\n",
    "\n",
    "    def predict(self, X):\n",
    "        return np.where(sigmoid(X @ self.theta) >= 0.5, 1, 0)\n",
    "    \n",
    "    # def __init__(self, alpha: float, iterations: int):\n",
    "    #     self.alpha = alpha\n",
    "    #     self.iterations = iterations\n",
    "    \n",
    "    # def fit(self, X: np.ndarray, y: np.ndarray):\n",
    "    #     self.X = X\n",
    "    #     self.y = y.reshape(-1)\n",
    "    #     self.theta = np.zeros(X.shape[1])\n",
    "    \n",
    "    # def cost_function(self):\n",
    "    #     print(\"sanity check\")\n",
    "    #     z = self.X @ self.theta\n",
    "    #     predict_1 = self.y * -np.log(sigmoid(z))\n",
    "    #     predict_0 = (1 - self.y) * -np.log(1 - sigmoid(z))\n",
    "    #     loss = predict_1 + predict_0\n",
    "    #     return np.mean(loss)\n",
    "    \n",
    "    # def gradient_descent(self):\n",
    "    #     losses = []\n",
    "    #     for iter in range(self.iterations):\n",
    "    #         z = self.X @ self.theta\n",
    "    #         gradient = self.X.T @ (sigmoid(z) - self.y) / self.X.shape[0]\n",
    "    #         self.theta -= self.alpha * gradient\n",
    "    #         loss = self.cost_function(self.X, self.y, self.theta)\n",
    "    #         losses.append(loss)\n",
    "\n",
    "    #     return losses\n",
    "\n",
    "    # def predict(self, X):\n",
    "    #     z = X @ self.theta\n",
    "    #     return np.where(sigmoid(z) >= 0.5, 1, 0)\n",
    "    \n",
    "    \n",
    "    \n",
    "    #     # assumes y is normalized properly to 0 1\n",
    "    #     # labels = np.unique(y_train)\n",
    "    #     # self.y = np.vectorize(lambda x: 0 if x == min(labels) else 1)(y_train)\n",
    "    #     # print(pd.Series(y_train).value_counts())\n",
    "    #     # print(pd.Series(self.y).value_counts())\n",
    "        \n",
    "    #     # np.random.seed(42)\n",
    "    #     # self.theta = np.random.uniform(low=-1, high=1, size=(X_train.shape[1], 1)) # assumes x is augmented\n",
    "    #     # self.theta = np.random.uniform(low=-1, high=1, size=(X_train.shape[1] + 1, 1)) # beta included in theta for vectorization\n",
    "        \n",
    "    #     # return self\n",
    "\n",
    "    # def gradient_descent(self, alpha, num_pass, early_stop=0, standardized = True):\n",
    "        \n",
    "    #     # if standardized:\n",
    "    #     #     self.X = z_standardize(self.X)\n",
    "    #     #     print(self.X.mean(axis=0))\n",
    "    #     #     print(self.X.std(axis=0))\n",
    "            \n",
    "    #     # self.X = np.hstack((np.ones((self.X.shape[0], 1)), self.X))\n",
    "    #     # print(self.theta.shape, self.X.shape)\n",
    "        \n",
    "    #     self.losses = []\n",
    "        \n",
    "    #     for i in range(num_pass):\n",
    "    #         matmul = self.X @ self.theta\n",
    "    #         preds = 1 / (1 + np.exp(-matmul))\n",
    "    #         branch1 = self.y * -np.log(preds)\n",
    "    #         branch2 = (1 - self.y) * -np.log(1 - preds)\n",
    "    #         losses = branch1 + branch2\n",
    "    #         risk = np.mean(losses)\n",
    "    #         # is the second neg necessary? should be? \n",
    "    #         self.losses.append(risk)\n",
    "            \n",
    "            \n",
    "    #         # manual backward pass\n",
    "    #         # g_risk = 1\n",
    "    #         # g_losses = g_risk * (1 / self.X.shape[0]) * np.ones_like(losses)\n",
    "    #         # g_branch1 = g_losses * 1\n",
    "    #         # g_branch2 = g_losses * 1\n",
    "    #         # g_preds = (\n",
    "    #         #     g_branch1 * (1/preds) * -1 * self.y + \n",
    "    #         #     g_branch2 * -1 * (1/(1-preds)) * -1 * (1-self.y)\n",
    "    #         # )\n",
    "    #         # g_matmul = g_preds * -1 * np.exp(-matmul) * 1 * -(1 + np.exp(-matmul)) ** -2\n",
    "    #         # g_theta = self.X.T @ g_matmul\n",
    "            \n",
    "    #         # fused operations\n",
    "    #         g_theta = (1 / self.X.shape[0]) * self.X.T @ (preds - self.y)\n",
    "            \n",
    "    #         new_theta = self.theta - alpha * g_theta\n",
    "    #         # new_preds = 1 / (1 + np.exp(-self.X @ new_theta))\n",
    "    #         # new_losses = self.y * -np.log(new_preds) + (1 - self.y) * -np.log(1 - new_preds)\n",
    "    #         # new_risk = (new_losses).mean()\n",
    "            \n",
    "    #         # if (abs(risk - new_risk) < early_stop) | (abs(abs(risk - new_risk) / risk) < early_stop):\n",
    "    #         #     break\n",
    "            \n",
    "    #         self.theta = new_theta\n",
    "            \n",
    "    #         if i % 100 == 0:\n",
    "    #             print(f'{i} Loss: {risk}')\n",
    "            \n",
    "    #     return self\n",
    "    \n",
    "    # def predict(self, X):\n",
    "    #     preds = 1 / (1 + np.exp(-X @ self.theta))\n",
    "    #     return np.where(preds > 0.5, 1, 0)"
   ]
  },
  {
   "cell_type": "code",
   "execution_count": 7,
   "metadata": {},
   "outputs": [],
   "source": [
    "url_Wine = 'https://archive.ics.uci.edu/ml/machine-learning-databases/wine-quality/winequality-red.csv'\n",
    "#names = ['f_acid', 'v_acid', 'c_acid', 'sugar', 'chlorides', 'f_SO2', 't_SO2', 'density', 'ph', 'sulphates', 'alcohol', 'quality']\n",
    "wine = pd.read_csv(url_Wine, delimiter=';')"
   ]
  },
  {
   "cell_type": "code",
   "execution_count": 8,
   "metadata": {},
   "outputs": [
    {
     "data": {
      "text/html": [
       "<div>\n",
       "<style scoped>\n",
       "    .dataframe tbody tr th:only-of-type {\n",
       "        vertical-align: middle;\n",
       "    }\n",
       "\n",
       "    .dataframe tbody tr th {\n",
       "        vertical-align: top;\n",
       "    }\n",
       "\n",
       "    .dataframe thead th {\n",
       "        text-align: right;\n",
       "    }\n",
       "</style>\n",
       "<table border=\"1\" class=\"dataframe\">\n",
       "  <thead>\n",
       "    <tr style=\"text-align: right;\">\n",
       "      <th></th>\n",
       "      <th>fixed acidity</th>\n",
       "      <th>volatile acidity</th>\n",
       "      <th>citric acid</th>\n",
       "      <th>residual sugar</th>\n",
       "      <th>chlorides</th>\n",
       "      <th>free sulfur dioxide</th>\n",
       "      <th>total sulfur dioxide</th>\n",
       "      <th>density</th>\n",
       "      <th>pH</th>\n",
       "      <th>sulphates</th>\n",
       "      <th>alcohol</th>\n",
       "      <th>quality</th>\n",
       "    </tr>\n",
       "  </thead>\n",
       "  <tbody>\n",
       "    <tr>\n",
       "      <th>0</th>\n",
       "      <td>7.4</td>\n",
       "      <td>0.70</td>\n",
       "      <td>0.00</td>\n",
       "      <td>1.9</td>\n",
       "      <td>0.076</td>\n",
       "      <td>11.0</td>\n",
       "      <td>34.0</td>\n",
       "      <td>0.99780</td>\n",
       "      <td>3.51</td>\n",
       "      <td>0.56</td>\n",
       "      <td>9.4</td>\n",
       "      <td>5</td>\n",
       "    </tr>\n",
       "    <tr>\n",
       "      <th>1</th>\n",
       "      <td>7.8</td>\n",
       "      <td>0.88</td>\n",
       "      <td>0.00</td>\n",
       "      <td>2.6</td>\n",
       "      <td>0.098</td>\n",
       "      <td>25.0</td>\n",
       "      <td>67.0</td>\n",
       "      <td>0.99680</td>\n",
       "      <td>3.20</td>\n",
       "      <td>0.68</td>\n",
       "      <td>9.8</td>\n",
       "      <td>5</td>\n",
       "    </tr>\n",
       "    <tr>\n",
       "      <th>2</th>\n",
       "      <td>7.8</td>\n",
       "      <td>0.76</td>\n",
       "      <td>0.04</td>\n",
       "      <td>2.3</td>\n",
       "      <td>0.092</td>\n",
       "      <td>15.0</td>\n",
       "      <td>54.0</td>\n",
       "      <td>0.99700</td>\n",
       "      <td>3.26</td>\n",
       "      <td>0.65</td>\n",
       "      <td>9.8</td>\n",
       "      <td>5</td>\n",
       "    </tr>\n",
       "    <tr>\n",
       "      <th>4</th>\n",
       "      <td>7.4</td>\n",
       "      <td>0.70</td>\n",
       "      <td>0.00</td>\n",
       "      <td>1.9</td>\n",
       "      <td>0.076</td>\n",
       "      <td>11.0</td>\n",
       "      <td>34.0</td>\n",
       "      <td>0.99780</td>\n",
       "      <td>3.51</td>\n",
       "      <td>0.56</td>\n",
       "      <td>9.4</td>\n",
       "      <td>5</td>\n",
       "    </tr>\n",
       "    <tr>\n",
       "      <th>5</th>\n",
       "      <td>7.4</td>\n",
       "      <td>0.66</td>\n",
       "      <td>0.00</td>\n",
       "      <td>1.8</td>\n",
       "      <td>0.075</td>\n",
       "      <td>13.0</td>\n",
       "      <td>40.0</td>\n",
       "      <td>0.99780</td>\n",
       "      <td>3.51</td>\n",
       "      <td>0.56</td>\n",
       "      <td>9.4</td>\n",
       "      <td>5</td>\n",
       "    </tr>\n",
       "    <tr>\n",
       "      <th>...</th>\n",
       "      <td>...</td>\n",
       "      <td>...</td>\n",
       "      <td>...</td>\n",
       "      <td>...</td>\n",
       "      <td>...</td>\n",
       "      <td>...</td>\n",
       "      <td>...</td>\n",
       "      <td>...</td>\n",
       "      <td>...</td>\n",
       "      <td>...</td>\n",
       "      <td>...</td>\n",
       "      <td>...</td>\n",
       "    </tr>\n",
       "    <tr>\n",
       "      <th>1592</th>\n",
       "      <td>6.3</td>\n",
       "      <td>0.51</td>\n",
       "      <td>0.13</td>\n",
       "      <td>2.3</td>\n",
       "      <td>0.076</td>\n",
       "      <td>29.0</td>\n",
       "      <td>40.0</td>\n",
       "      <td>0.99574</td>\n",
       "      <td>3.42</td>\n",
       "      <td>0.75</td>\n",
       "      <td>11.0</td>\n",
       "      <td>6</td>\n",
       "    </tr>\n",
       "    <tr>\n",
       "      <th>1593</th>\n",
       "      <td>6.8</td>\n",
       "      <td>0.62</td>\n",
       "      <td>0.08</td>\n",
       "      <td>1.9</td>\n",
       "      <td>0.068</td>\n",
       "      <td>28.0</td>\n",
       "      <td>38.0</td>\n",
       "      <td>0.99651</td>\n",
       "      <td>3.42</td>\n",
       "      <td>0.82</td>\n",
       "      <td>9.5</td>\n",
       "      <td>6</td>\n",
       "    </tr>\n",
       "    <tr>\n",
       "      <th>1595</th>\n",
       "      <td>5.9</td>\n",
       "      <td>0.55</td>\n",
       "      <td>0.10</td>\n",
       "      <td>2.2</td>\n",
       "      <td>0.062</td>\n",
       "      <td>39.0</td>\n",
       "      <td>51.0</td>\n",
       "      <td>0.99512</td>\n",
       "      <td>3.52</td>\n",
       "      <td>0.76</td>\n",
       "      <td>11.2</td>\n",
       "      <td>6</td>\n",
       "    </tr>\n",
       "    <tr>\n",
       "      <th>1596</th>\n",
       "      <td>6.3</td>\n",
       "      <td>0.51</td>\n",
       "      <td>0.13</td>\n",
       "      <td>2.3</td>\n",
       "      <td>0.076</td>\n",
       "      <td>29.0</td>\n",
       "      <td>40.0</td>\n",
       "      <td>0.99574</td>\n",
       "      <td>3.42</td>\n",
       "      <td>0.75</td>\n",
       "      <td>11.0</td>\n",
       "      <td>6</td>\n",
       "    </tr>\n",
       "    <tr>\n",
       "      <th>1598</th>\n",
       "      <td>6.0</td>\n",
       "      <td>0.31</td>\n",
       "      <td>0.47</td>\n",
       "      <td>3.6</td>\n",
       "      <td>0.067</td>\n",
       "      <td>18.0</td>\n",
       "      <td>42.0</td>\n",
       "      <td>0.99549</td>\n",
       "      <td>3.39</td>\n",
       "      <td>0.66</td>\n",
       "      <td>11.0</td>\n",
       "      <td>6</td>\n",
       "    </tr>\n",
       "  </tbody>\n",
       "</table>\n",
       "<p>1319 rows × 12 columns</p>\n",
       "</div>"
      ],
      "text/plain": [
       "      fixed acidity  volatile acidity  citric acid  residual sugar  chlorides  \\\n",
       "0               7.4              0.70         0.00             1.9      0.076   \n",
       "1               7.8              0.88         0.00             2.6      0.098   \n",
       "2               7.8              0.76         0.04             2.3      0.092   \n",
       "4               7.4              0.70         0.00             1.9      0.076   \n",
       "5               7.4              0.66         0.00             1.8      0.075   \n",
       "...             ...               ...          ...             ...        ...   \n",
       "1592            6.3              0.51         0.13             2.3      0.076   \n",
       "1593            6.8              0.62         0.08             1.9      0.068   \n",
       "1595            5.9              0.55         0.10             2.2      0.062   \n",
       "1596            6.3              0.51         0.13             2.3      0.076   \n",
       "1598            6.0              0.31         0.47             3.6      0.067   \n",
       "\n",
       "      free sulfur dioxide  total sulfur dioxide  density    pH  sulphates  \\\n",
       "0                    11.0                  34.0  0.99780  3.51       0.56   \n",
       "1                    25.0                  67.0  0.99680  3.20       0.68   \n",
       "2                    15.0                  54.0  0.99700  3.26       0.65   \n",
       "4                    11.0                  34.0  0.99780  3.51       0.56   \n",
       "5                    13.0                  40.0  0.99780  3.51       0.56   \n",
       "...                   ...                   ...      ...   ...        ...   \n",
       "1592                 29.0                  40.0  0.99574  3.42       0.75   \n",
       "1593                 28.0                  38.0  0.99651  3.42       0.82   \n",
       "1595                 39.0                  51.0  0.99512  3.52       0.76   \n",
       "1596                 29.0                  40.0  0.99574  3.42       0.75   \n",
       "1598                 18.0                  42.0  0.99549  3.39       0.66   \n",
       "\n",
       "      alcohol  quality  \n",
       "0         9.4        5  \n",
       "1         9.8        5  \n",
       "2         9.8        5  \n",
       "4         9.4        5  \n",
       "5         9.4        5  \n",
       "...       ...      ...  \n",
       "1592     11.0        6  \n",
       "1593      9.5        6  \n",
       "1595     11.2        6  \n",
       "1596     11.0        6  \n",
       "1598     11.0        6  \n",
       "\n",
       "[1319 rows x 12 columns]"
      ]
     },
     "execution_count": 8,
     "metadata": {},
     "output_type": "execute_result"
    }
   ],
   "source": [
    "wine5 = wine.loc[wine.quality == 5]\n",
    "wine6 = wine.loc[wine.quality == 6]\n",
    "wineall = pd.concat([wine5,wine6])\n",
    "wineall"
   ]
  },
  {
   "cell_type": "code",
   "execution_count": 24,
   "metadata": {},
   "outputs": [],
   "source": [
    "X = np.array(wineall.iloc[:,:10])\n",
    "Y = np.array(wineall.quality)"
   ]
  },
  {
   "cell_type": "code",
   "execution_count": 25,
   "metadata": {},
   "outputs": [
    {
     "data": {
      "text/plain": [
       "0.6800606520090978"
      ]
     },
     "execution_count": 25,
     "metadata": {},
     "output_type": "execute_result"
    }
   ],
   "source": [
    "# import sklearn logistic regression\n",
    "from sklearn.linear_model import LogisticRegression as SKLogisticRegression\n",
    "\n",
    "sklogistic = SKLogisticRegression(max_iter=1000, random_state=42).fit(X,Y)\n",
    "sklogistic.score(X, Y)"
   ]
  },
  {
   "cell_type": "code",
   "execution_count": 26,
   "metadata": {},
   "outputs": [],
   "source": [
    "X_std = z_standardize(pd.DataFrame(X))\n",
    "X_aug = np.hstack((np.ones((X.shape[0], 1)), X_std))\n",
    "Y_norm = np.where(Y == 5, 0, 1)"
   ]
  },
  {
   "cell_type": "code",
   "execution_count": 27,
   "metadata": {},
   "outputs": [
    {
     "data": {
      "text/plain": [
       "0.7050796057619408"
      ]
     },
     "execution_count": 27,
     "metadata": {},
     "output_type": "execute_result"
    }
   ],
   "source": [
    "# import sklearn logistic regression\n",
    "from sklearn.linear_model import LogisticRegression as SKLogisticRegression\n",
    "\n",
    "sklogistic = SKLogisticRegression(max_iter=1000, random_state=42).fit(X_aug,Y_norm)\n",
    "sklogistic.score(X_aug, Y_norm)"
   ]
  },
  {
   "cell_type": "code",
   "execution_count": 30,
   "metadata": {},
   "outputs": [
    {
     "name": "stdout",
     "output_type": "stream",
     "text": [
      "early stop @ 4189\n"
     ]
    }
   ],
   "source": [
    "regressor = Logistic_Regression(0.01, 10000, 0.000001)\n",
    "coefs, losses = regressor.fit(X_aug, Y_norm)"
   ]
  },
  {
   "cell_type": "code",
   "execution_count": 31,
   "metadata": {},
   "outputs": [
    {
     "data": {
      "text/plain": [
       "0.7005307050796058"
      ]
     },
     "execution_count": 31,
     "metadata": {},
     "output_type": "execute_result"
    }
   ],
   "source": [
    "(regressor.predict(X_aug) == Y_norm).mean()"
   ]
  },
  {
   "cell_type": "code",
   "execution_count": 19,
   "metadata": {},
   "outputs": [
    {
     "data": {
      "text/plain": [
       "[<matplotlib.lines.Line2D at 0x12ac04d50>]"
      ]
     },
     "execution_count": 19,
     "metadata": {},
     "output_type": "execute_result"
    },
    {
     "data": {
      "image/png": "[encoded data removed]",
      "text/plain": [
       "<Figure size 640x480 with 1 Axes>"
      ]
     },
     "metadata": {},
     "output_type": "display_data"
    }
   ],
   "source": [
    "plt.plot(losses)"
   ]
  },
  {
   "cell_type": "code",
   "execution_count": 58,
   "metadata": {},
   "outputs": [
    {
     "data": {
      "text/plain": [
       "((1319, 11), (11, 1))"
      ]
     },
     "execution_count": 58,
     "metadata": {},
     "output_type": "execute_result"
    }
   ],
   "source": [
    "X_aug.shape, regressor.theta.shape"
   ]
  },
  {
   "cell_type": "code",
   "execution_count": 20,
   "metadata": {},
   "outputs": [
    {
     "data": {
      "text/plain": [
       "0.7081122062168309"
      ]
     },
     "execution_count": 20,
     "metadata": {},
     "output_type": "execute_result"
    }
   ],
   "source": [
    "(regressor.predict(X_aug) == Y_norm).mean()"
   ]
  },
  {
   "cell_type": "code",
   "execution_count": 384,
   "metadata": {},
   "outputs": [],
   "source": [
    "logit = Logistic_Regression()\n",
    "logit.fit(X, Y)"
   ]
  },
  {
   "cell_type": "code",
   "execution_count": 385,
   "metadata": {},
   "outputs": [],
   "source": [
    "g = logit.gradient_descent_logistic(0.001, 1000)"
   ]
  },
  {
   "cell_type": "code",
   "execution_count": 386,
   "metadata": {},
   "outputs": [],
   "source": [
    "w, b = g"
   ]
  },
  {
   "cell_type": "code",
   "execution_count": 387,
   "metadata": {},
   "outputs": [
    {
     "data": {
      "text/plain": [
       "(array([ 0.88920356, -0.39976005, -0.15986489,  0.33723283, -0.16076005,\n",
       "         0.22245154, -0.61885986, -0.86668798,  0.43063254,  0.54169727]),\n",
       " -0.07735992361457411)"
      ]
     },
     "execution_count": 387,
     "metadata": {},
     "output_type": "execute_result"
    }
   ],
   "source": [
    "g"
   ]
  },
  {
   "cell_type": "code",
   "execution_count": 388,
   "metadata": {},
   "outputs": [],
   "source": [
    "hat = np.array(w.dot(z_standardize(X).T) + b)"
   ]
  },
  {
   "cell_type": "code",
   "execution_count": 389,
   "metadata": {},
   "outputs": [
    {
     "data": {
      "text/plain": [
       "array([0.31150064, 0.22190456, 0.26046789, ..., 0.7378107 , 0.66316566,\n",
       "       0.62770556])"
      ]
     },
     "execution_count": 389,
     "metadata": {},
     "output_type": "execute_result"
    }
   ],
   "source": [
    "hat1 = sigmoid(hat)\n",
    "hat1"
   ]
  },
  {
   "cell_type": "code",
   "execution_count": 391,
   "metadata": {},
   "outputs": [
    {
     "data": {
      "text/plain": [
       "928"
      ]
     },
     "execution_count": 391,
     "metadata": {},
     "output_type": "execute_result"
    }
   ],
   "source": [
    "count = 0\n",
    "for i in range(len(hat)):\n",
    "    if hat1[i] < 0.5:\n",
    "        if Y[i] == -1:\n",
    "            count += 1\n",
    "    else:\n",
    "        if Y[i] == 1:\n",
    "            count += 1\n",
    "count"
   ]
  },
  {
   "cell_type": "code",
   "execution_count": 392,
   "metadata": {},
   "outputs": [
    {
     "data": {
      "text/plain": [
       "0.7035633055344959"
      ]
     },
     "execution_count": 392,
     "metadata": {},
     "output_type": "execute_result"
    }
   ],
   "source": [
    "928/1319"
   ]
  },
  {
   "cell_type": "code",
   "execution_count": 24,
   "metadata": {},
   "outputs": [],
   "source": [
    "import numpy as np\n",
    "import matplotlib.pyplot as plt"
   ]
  },
  {
   "cell_type": "code",
   "execution_count": 27,
   "metadata": {},
   "outputs": [
    {
     "data": {
      "text/plain": [
       "<matplotlib.collections.PathCollection at 0x12781d950>"
      ]
     },
     "execution_count": 27,
     "metadata": {},
     "output_type": "execute_result"
    },
    {
     "data": {
      "image/png": "[encoded data removed]",
      "text/plain": [
       "<Figure size 640x480 with 1 Axes>"
      ]
     },
     "metadata": {},
     "output_type": "display_data"
    }
   ],
   "source": [
    "np.random.seed(0)  # For reproducibility\n",
    "\n",
    "# Generate synthetic data\n",
    "X = np.random.randn(100, 2)\n",
    "y = (X[:, 0] + X[:, 1] > 0).astype(np.float32)  # Simple decision boundary\n",
    "\n",
    "plt.scatter(X[y == 0, 0], X[y == 0, 1], label='Class 0')\n",
    "plt.scatter(X[y == 1, 0], X[y == 1, 1], label='Class 1')"
   ]
  },
  {
   "cell_type": "code",
   "execution_count": 46,
   "metadata": {},
   "outputs": [
    {
     "data": {
      "text/plain": [
       "((100, 2), (100,))"
      ]
     },
     "execution_count": 46,
     "metadata": {},
     "output_type": "execute_result"
    }
   ],
   "source": [
    "X.shape, y.shape"
   ]
  },
  {
   "cell_type": "code",
   "execution_count": 79,
   "metadata": {},
   "outputs": [
    {
     "name": "stdout",
     "output_type": "stream",
     "text": [
      "0.7081122062168309\n",
      "Trained weights: [-0.08067466  0.77509493 -0.38166718 -0.11422489  0.31535888 -0.18238054\n",
      "  0.24257237 -0.65215954 -0.79901522  0.37698587  0.53774887]\n"
     ]
    }
   ],
   "source": [
    "def sigmoid(z):\n",
    "    return 1 / (1 + np.exp(-z))\n",
    "\n",
    "def cost_function(X, y, weights):\n",
    "    z = np.dot(X, weights)\n",
    "    predict_1 = y * -np.log(sigmoid(z))\n",
    "    predict_0 = (1 - y) * -np.log(1 - sigmoid(z))\n",
    "    loss = predict_1 + predict_0\n",
    "    return np.mean(loss)\n",
    "\n",
    "def gradient_descent(X, y, weights, learning_rate, iterations):\n",
    "    cost_history = []\n",
    "\n",
    "    for i in range(iterations):\n",
    "        z = np.dot(X, weights)\n",
    "        gradient = np.dot(X.T, (sigmoid(z) - y)) / len(X)\n",
    "        weights -= learning_rate * gradient\n",
    "        cost = cost_function(X, y, weights)\n",
    "        cost_history.append(cost)\n",
    "\n",
    "    return weights, cost_history\n",
    "\n",
    "def predict(X, weights):\n",
    "    z = np.dot(X, weights)\n",
    "    return [1 if i > 0.5 else 0 for i in sigmoid(z)]\n",
    "\n",
    "\n",
    "weights = np.zeros(X_aug.shape[1])\n",
    "learning_rate = 0.01\n",
    "iterations = 10000\n",
    "\n",
    "weights, cost_history = gradient_descent(X_aug, Y_norm.reshape(-1), weights, learning_rate, iterations)\n",
    "predictions = predict(X_aug, weights)\n",
    "\n",
    "print((predictions == Y_norm).mean())\n",
    "print(\"Trained weights:\", weights)"
   ]
  },
  {
   "cell_type": "code",
   "execution_count": 138,
   "metadata": {},
   "outputs": [
    {
     "name": "stdout",
     "output_type": "stream",
     "text": [
      "0.7081122062168309\n"
     ]
    }
   ],
   "source": [
    "# weights = np.zeros(X_aug.shape[1])\n",
    "lr = Logistic_Regression(0.01, 10000)\n",
    "weights, cost_history = lr.fit(X_aug, Y_norm.reshape(-1))\n",
    "# weights, cost_history = lr.gradient_descent(X_aug, Y_norm.reshape(-1), weights)\n",
    "predictions = lr.predict(X_aug)\n",
    "\n",
    "print((predictions == Y_norm).mean())"
   ]
  },
  {
   "cell_type": "code",
   "execution_count": null,
   "metadata": {},
   "outputs": [],
   "source": []
  }
 ],
 "metadata": {
  "kernelspec": {
   "display_name": "Python 3",
   "language": "python",
   "name": "python3"
  },
  "language_info": {
   "codemirror_mode": {
    "name": "ipython",
    "version": 3
   },
   "file_extension": ".py",
   "mimetype": "text/x-python",
   "name": "python",
   "nbconvert_exporter": "python",
   "pygments_lexer": "ipython3",
   "version": "3.11.2"
  }
 },
 "nbformat": 4,
 "nbformat_minor": 2
}
