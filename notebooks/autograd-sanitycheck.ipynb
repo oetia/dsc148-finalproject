{
 "cells": [
  {
   "cell_type": "code",
   "execution_count": 1,
   "metadata": {},
   "outputs": [],
   "source": [
    "import torch\n",
    "import torch.nn.functional as F\n",
    "import matplotlib.pyplot as plt # for making figures\n",
    "%matplotlib inline"
   ]
  },
  {
   "cell_type": "code",
   "execution_count": 2,
   "metadata": {},
   "outputs": [],
   "source": [
    "def cmp(s, dt, t):\n",
    "  ex = torch.all(dt == t.grad).item()\n",
    "  app = torch.allclose(dt, t.grad)\n",
    "  maxdiff = (dt - t.grad).abs().max().item()\n",
    "  # print(f'{s:15s} | exact: {str(ex):5s} | approximate: {str(app):5s} | maxdiff: {maxdiff}')\n",
    "  print(f'{s:20s} | approximate: {str(app):5s} | maxdiff: {maxdiff}')"
   ]
  },
  {
   "cell_type": "code",
   "execution_count": 3,
   "metadata": {},
   "outputs": [],
   "source": [
    "X = torch.tensor([\n",
    "    [1, 1, 2, 3],\n",
    "    [1, 4, 5, 6],\n",
    "    [1, 7, 8, 9]\n",
    "], dtype=torch.float32)\n",
    "\n",
    "y = torch.tensor([1, 0, 1]).reshape(-1, 1)"
   ]
  },
  {
   "cell_type": "code",
   "execution_count": 4,
   "metadata": {},
   "outputs": [
    {
     "data": {
      "text/plain": [
       "tensor([[-0.9800],\n",
       "        [-1.6578],\n",
       "        [-0.0572],\n",
       "        [-0.3409]], requires_grad=True)"
      ]
     },
     "execution_count": 4,
     "metadata": {},
     "output_type": "execute_result"
    }
   ],
   "source": [
    "g = torch.Generator().manual_seed(2147483647)\n",
    "theta = torch.randn((4, 1), generator=g, requires_grad=True)\n",
    "theta.grad = None # i guess that i didn't zero the gradients when rerunning this\n",
    "theta"
   ]
  },
  {
   "cell_type": "code",
   "execution_count": 5,
   "metadata": {},
   "outputs": [],
   "source": [
    "theta.grad"
   ]
  },
  {
   "cell_type": "code",
   "execution_count": 6,
   "metadata": {},
   "outputs": [
    {
     "data": {
      "text/plain": [
       "tensor(6.6358, grad_fn=<MeanBackward0>)"
      ]
     },
     "execution_count": 6,
     "metadata": {},
     "output_type": "execute_result"
    }
   ],
   "source": [
    "# forward pass\n",
    "theta.grad = None # forgot to flush gradients. things ended up weird b.c. of this. \n",
    "matmul = X @ theta\n",
    "preds = 1 / (1 + torch.exp(-matmul))\n",
    "branch1 = y * -torch.log(preds)\n",
    "branch2 = (1 - y) * -torch.log(1 - preds)\n",
    "losses = branch1 + branch2\n",
    "risk = (losses).mean()\n",
    "\n",
    "for t in [theta, matmul, preds, branch1, branch2, losses, risk]:\n",
    "    t.retain_grad()\n",
    "risk.backward()\n",
    "risk"
   ]
  },
  {
   "cell_type": "code",
   "execution_count": 19,
   "metadata": {},
   "outputs": [],
   "source": [
    "g_risk = torch.tensor(1.0)\n",
    "g_losses = g_risk * (1/X.shape[0]) * torch.ones_like(losses)\n",
    "g_branch1 = g_losses * 1\n",
    "g_branch2 = g_losses * 1\n",
    "g_preds = (\n",
    "    (1/preds) * -1 * y * g_branch1 + \n",
    "    -1 * (1/(1-preds)) * -1 * (1-y) * g_branch2\n",
    ")\n",
    "g_matmul = g_preds * -1 * torch.exp(-matmul) * 1 * -(1 + torch.exp(-matmul)) ** -2\n",
    "g_theta = X.T @ g_matmul"
   ]
  },
  {
   "cell_type": "code",
   "execution_count": 20,
   "metadata": {},
   "outputs": [
    {
     "name": "stdout",
     "output_type": "stream",
     "text": [
      "risk                 | approximate: True  | maxdiff: 0.0\n",
      "losses               | approximate: True  | maxdiff: 0.0\n",
      "branch1              | approximate: True  | maxdiff: 0.0\n",
      "branch2              | approximate: True  | maxdiff: 0.0\n",
      "preds                | approximate: True  | maxdiff: 9.5367431640625e-07\n",
      "matmul               | approximate: True  | maxdiff: 5.960464477539063e-08\n",
      "theta                | approximate: True  | maxdiff: 2.384185791015625e-07\n"
     ]
    }
   ],
   "source": [
    "cmp('risk', g_risk, risk)\n",
    "cmp('losses', g_losses, losses)\n",
    "cmp('branch1', g_branch1, branch1)\n",
    "cmp('branch2', g_branch2, branch2)\n",
    "cmp('preds', g_preds, preds)\n",
    "cmp('matmul', g_matmul, matmul)\n",
    "cmp('theta', g_theta, theta)"
   ]
  }
 ],
 "metadata": {
  "kernelspec": {
   "display_name": "dsc80_39",
   "language": "python",
   "name": "python3"
  },
  "language_info": {
   "codemirror_mode": {
    "name": "ipython",
    "version": 3
   },
   "file_extension": ".py",
   "mimetype": "text/x-python",
   "name": "python",
   "nbconvert_exporter": "python",
   "pygments_lexer": "ipython3",
   "version": "3.8.16"
  }
 },
 "nbformat": 4,
 "nbformat_minor": 2
}
